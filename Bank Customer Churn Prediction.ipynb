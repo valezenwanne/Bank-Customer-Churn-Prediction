{
 "cells": [
  {
   "cell_type": "markdown",
   "id": "6cfabc05",
   "metadata": {},
   "source": [
    "# BANK CUSTOMER CHURN (ANALYSIS & PREDICTION)"
   ]
  },
  {
   "cell_type": "markdown",
   "id": "b8991db1",
   "metadata": {},
   "source": [
    "- The aim of the project is to analyze the bank customer churn data to find insight into the churn and build a model for predicting customer churn"
   ]
  },
  {
   "cell_type": "markdown",
   "id": "c0292f70",
   "metadata": {},
   "source": [
    "- RowNumber — corresponds to the record (row) number and has no effect on the output.\n",
    "- CustomerId — contains random values and has no effect on customer leaving the bank.\n",
    "- Surname—the surname of a customer has no impact on their decision to leave the bank.\n",
    "- CreditScore — can have an effect on customer churn, since a customer with a higher credit score is less likely to leave the bank.\n",
    "- Geography — a customer’s location can affect their decision to leave the bank.\n",
    "- Gender — it’s interesting to explore whether gender plays a role in a customer leaving the bank.\n",
    "- Age — this is certainly relevant, since older customers are less likely to leave their bank than younger ones.\n",
    "- Tenure — refers to the number of years that the customer has been a client of the bank. Normally, older clients are more loyal and less likely to leave a bank.\n",
    "- Balance — also a very good indicator of customer churn, as people with a higher balance in their accounts are less likely to leave the bank compared to those with lower balances.\n",
    "- NumOfProducts —refers to the number of products that a customer has purchased through the bank.\n",
    "- HasCrCard —denotes whether or not a customer has a credit card. This column is also relevant, since people with a credit card are less likely to leave the bank.\n",
    "- IsActiveMember —active customers are less likely to leave the bank.\n",
    "- EstimatedSalary —as with balance, people with lower salaries are more likely to leave the bank compared to those with higher salaries.\n",
    "- Exited —whether or not the customer left the bank.\n",
    "- Complain —customer has complaint or not.\n",
    "- Satisfaction Score —Score provided by the customer for their complaint resolution.\n",
    "- Card Type —type of card hold by the customer.\n",
    "- Points Earned —the points earned by the customer for using credit card.\n",
    "\n",
    "Acknowledgements\n",
    "\n",
    "As we know, it is much more expensive to sign in a new client than keeping an existing one.\n",
    "\n",
    "It is advantageous for banks to know what leads a client towards the decision to leave the company.\n",
    "\n",
    "Churn prevention allows companies to develop loyalty programs and retention campaigns to keep as many customers as possible."
   ]
  },
  {
   "cell_type": "markdown",
   "id": "b0c2d11d",
   "metadata": {},
   "source": [
    "## Load the Libraries"
   ]
  },
  {
   "cell_type": "code",
   "execution_count": 1,
   "id": "3c76bf98",
   "metadata": {},
   "outputs": [],
   "source": [
    "#load the libraries\n",
    "import pandas as pd\n",
    "import numpy as np\n",
    "import seaborn as sns\n",
    "import matplotlib.pyplot as plt\n",
    "%matplotlib inline\n",
    "pd.set_option('display.max_column', None)\n",
    "import warnings\n",
    "warnings.filterwarnings('ignore')"
   ]
  },
  {
   "cell_type": "markdown",
   "id": "568842ae",
   "metadata": {},
   "source": [
    "## Load the dataset"
   ]
  },
  {
   "cell_type": "code",
   "execution_count": 2,
   "id": "e5c76b00",
   "metadata": {},
   "outputs": [],
   "source": [
    "#load the dataset\n",
    "df = pd.read_csv('Customer-Churn-Records.csv')"
   ]
  },
  {
   "cell_type": "markdown",
   "id": "f9b2df2a",
   "metadata": {},
   "source": [
    "## Data Wrangling"
   ]
  },
  {
   "cell_type": "code",
   "execution_count": 3,
   "id": "07b2dea7",
   "metadata": {},
   "outputs": [
    {
     "data": {
      "text/html": [
       "<div>\n",
       "<style scoped>\n",
       "    .dataframe tbody tr th:only-of-type {\n",
       "        vertical-align: middle;\n",
       "    }\n",
       "\n",
       "    .dataframe tbody tr th {\n",
       "        vertical-align: top;\n",
       "    }\n",
       "\n",
       "    .dataframe thead th {\n",
       "        text-align: right;\n",
       "    }\n",
       "</style>\n",
       "<table border=\"1\" class=\"dataframe\">\n",
       "  <thead>\n",
       "    <tr style=\"text-align: right;\">\n",
       "      <th></th>\n",
       "      <th>RowNumber</th>\n",
       "      <th>CustomerId</th>\n",
       "      <th>Surname</th>\n",
       "      <th>CreditScore</th>\n",
       "      <th>Geography</th>\n",
       "      <th>Gender</th>\n",
       "      <th>Age</th>\n",
       "      <th>Tenure</th>\n",
       "      <th>Balance</th>\n",
       "      <th>NumOfProducts</th>\n",
       "      <th>HasCrCard</th>\n",
       "      <th>IsActiveMember</th>\n",
       "      <th>EstimatedSalary</th>\n",
       "      <th>Exited</th>\n",
       "      <th>Complain</th>\n",
       "      <th>Satisfaction Score</th>\n",
       "      <th>Card Type</th>\n",
       "      <th>Point Earned</th>\n",
       "    </tr>\n",
       "  </thead>\n",
       "  <tbody>\n",
       "    <tr>\n",
       "      <th>0</th>\n",
       "      <td>1</td>\n",
       "      <td>15634602</td>\n",
       "      <td>Hargrave</td>\n",
       "      <td>619</td>\n",
       "      <td>France</td>\n",
       "      <td>Female</td>\n",
       "      <td>42</td>\n",
       "      <td>2</td>\n",
       "      <td>0.00</td>\n",
       "      <td>1</td>\n",
       "      <td>1</td>\n",
       "      <td>1</td>\n",
       "      <td>101348.88</td>\n",
       "      <td>1</td>\n",
       "      <td>1</td>\n",
       "      <td>2</td>\n",
       "      <td>DIAMOND</td>\n",
       "      <td>464</td>\n",
       "    </tr>\n",
       "    <tr>\n",
       "      <th>1</th>\n",
       "      <td>2</td>\n",
       "      <td>15647311</td>\n",
       "      <td>Hill</td>\n",
       "      <td>608</td>\n",
       "      <td>Spain</td>\n",
       "      <td>Female</td>\n",
       "      <td>41</td>\n",
       "      <td>1</td>\n",
       "      <td>83807.86</td>\n",
       "      <td>1</td>\n",
       "      <td>0</td>\n",
       "      <td>1</td>\n",
       "      <td>112542.58</td>\n",
       "      <td>0</td>\n",
       "      <td>1</td>\n",
       "      <td>3</td>\n",
       "      <td>DIAMOND</td>\n",
       "      <td>456</td>\n",
       "    </tr>\n",
       "    <tr>\n",
       "      <th>2</th>\n",
       "      <td>3</td>\n",
       "      <td>15619304</td>\n",
       "      <td>Onio</td>\n",
       "      <td>502</td>\n",
       "      <td>France</td>\n",
       "      <td>Female</td>\n",
       "      <td>42</td>\n",
       "      <td>8</td>\n",
       "      <td>159660.80</td>\n",
       "      <td>3</td>\n",
       "      <td>1</td>\n",
       "      <td>0</td>\n",
       "      <td>113931.57</td>\n",
       "      <td>1</td>\n",
       "      <td>1</td>\n",
       "      <td>3</td>\n",
       "      <td>DIAMOND</td>\n",
       "      <td>377</td>\n",
       "    </tr>\n",
       "    <tr>\n",
       "      <th>3</th>\n",
       "      <td>4</td>\n",
       "      <td>15701354</td>\n",
       "      <td>Boni</td>\n",
       "      <td>699</td>\n",
       "      <td>France</td>\n",
       "      <td>Female</td>\n",
       "      <td>39</td>\n",
       "      <td>1</td>\n",
       "      <td>0.00</td>\n",
       "      <td>2</td>\n",
       "      <td>0</td>\n",
       "      <td>0</td>\n",
       "      <td>93826.63</td>\n",
       "      <td>0</td>\n",
       "      <td>0</td>\n",
       "      <td>5</td>\n",
       "      <td>GOLD</td>\n",
       "      <td>350</td>\n",
       "    </tr>\n",
       "    <tr>\n",
       "      <th>4</th>\n",
       "      <td>5</td>\n",
       "      <td>15737888</td>\n",
       "      <td>Mitchell</td>\n",
       "      <td>850</td>\n",
       "      <td>Spain</td>\n",
       "      <td>Female</td>\n",
       "      <td>43</td>\n",
       "      <td>2</td>\n",
       "      <td>125510.82</td>\n",
       "      <td>1</td>\n",
       "      <td>1</td>\n",
       "      <td>1</td>\n",
       "      <td>79084.10</td>\n",
       "      <td>0</td>\n",
       "      <td>0</td>\n",
       "      <td>5</td>\n",
       "      <td>GOLD</td>\n",
       "      <td>425</td>\n",
       "    </tr>\n",
       "  </tbody>\n",
       "</table>\n",
       "</div>"
      ],
      "text/plain": [
       "   RowNumber  CustomerId   Surname  CreditScore Geography  Gender  Age  \\\n",
       "0          1    15634602  Hargrave          619    France  Female   42   \n",
       "1          2    15647311      Hill          608     Spain  Female   41   \n",
       "2          3    15619304      Onio          502    France  Female   42   \n",
       "3          4    15701354      Boni          699    France  Female   39   \n",
       "4          5    15737888  Mitchell          850     Spain  Female   43   \n",
       "\n",
       "   Tenure    Balance  NumOfProducts  HasCrCard  IsActiveMember  \\\n",
       "0       2       0.00              1          1               1   \n",
       "1       1   83807.86              1          0               1   \n",
       "2       8  159660.80              3          1               0   \n",
       "3       1       0.00              2          0               0   \n",
       "4       2  125510.82              1          1               1   \n",
       "\n",
       "   EstimatedSalary  Exited  Complain  Satisfaction Score Card Type  \\\n",
       "0        101348.88       1         1                   2   DIAMOND   \n",
       "1        112542.58       0         1                   3   DIAMOND   \n",
       "2        113931.57       1         1                   3   DIAMOND   \n",
       "3         93826.63       0         0                   5      GOLD   \n",
       "4         79084.10       0         0                   5      GOLD   \n",
       "\n",
       "   Point Earned  \n",
       "0           464  \n",
       "1           456  \n",
       "2           377  \n",
       "3           350  \n",
       "4           425  "
      ]
     },
     "execution_count": 3,
     "metadata": {},
     "output_type": "execute_result"
    }
   ],
   "source": [
    "#display first five rows of the table\n",
    "df.head()"
   ]
  },
  {
   "cell_type": "code",
   "execution_count": 4,
   "id": "2660074f",
   "metadata": {},
   "outputs": [
    {
     "data": {
      "text/plain": [
       "(10000, 18)"
      ]
     },
     "execution_count": 4,
     "metadata": {},
     "output_type": "execute_result"
    }
   ],
   "source": [
    "#understanding the shape\n",
    "df.shape"
   ]
  },
  {
   "cell_type": "markdown",
   "id": "1cd681e8",
   "metadata": {},
   "source": [
    "- There are 10,000 customers records and 18 variables(features)"
   ]
  },
  {
   "cell_type": "code",
   "execution_count": 5,
   "id": "42105f9d",
   "metadata": {},
   "outputs": [
    {
     "data": {
      "text/plain": [
       "RowNumber             0\n",
       "CustomerId            0\n",
       "Surname               0\n",
       "CreditScore           0\n",
       "Geography             0\n",
       "Gender                0\n",
       "Age                   0\n",
       "Tenure                0\n",
       "Balance               0\n",
       "NumOfProducts         0\n",
       "HasCrCard             0\n",
       "IsActiveMember        0\n",
       "EstimatedSalary       0\n",
       "Exited                0\n",
       "Complain              0\n",
       "Satisfaction Score    0\n",
       "Card Type             0\n",
       "Point Earned          0\n",
       "dtype: int64"
      ]
     },
     "execution_count": 5,
     "metadata": {},
     "output_type": "execute_result"
    }
   ],
   "source": [
    "#checking for missing values\n",
    "df.isna().sum()"
   ]
  },
  {
   "cell_type": "markdown",
   "id": "1ce977ec",
   "metadata": {},
   "source": [
    "- There are no missing values"
   ]
  },
  {
   "cell_type": "code",
   "execution_count": 6,
   "id": "f9604c2b",
   "metadata": {},
   "outputs": [
    {
     "data": {
      "text/plain": [
       "0"
      ]
     },
     "execution_count": 6,
     "metadata": {},
     "output_type": "execute_result"
    }
   ],
   "source": [
    "#checking for duplicates\n",
    "df.duplicated().sum()"
   ]
  },
  {
   "cell_type": "markdown",
   "id": "45124676",
   "metadata": {},
   "source": [
    "- There are no duplcates in the record"
   ]
  },
  {
   "cell_type": "code",
   "execution_count": 7,
   "id": "8ee4a0a3",
   "metadata": {},
   "outputs": [
    {
     "data": {
      "text/plain": [
       "RowNumber               int64\n",
       "CustomerId              int64\n",
       "Surname                object\n",
       "CreditScore             int64\n",
       "Geography              object\n",
       "Gender                 object\n",
       "Age                     int64\n",
       "Tenure                  int64\n",
       "Balance               float64\n",
       "NumOfProducts           int64\n",
       "HasCrCard               int64\n",
       "IsActiveMember          int64\n",
       "EstimatedSalary       float64\n",
       "Exited                  int64\n",
       "Complain                int64\n",
       "Satisfaction Score      int64\n",
       "Card Type              object\n",
       "Point Earned            int64\n",
       "dtype: object"
      ]
     },
     "execution_count": 7,
     "metadata": {},
     "output_type": "execute_result"
    }
   ],
   "source": [
    "#checking the datatypes\n",
    "df.dtypes"
   ]
  },
  {
   "cell_type": "code",
   "execution_count": 8,
   "id": "247360a6",
   "metadata": {},
   "outputs": [
    {
     "data": {
      "text/plain": [
       "14"
      ]
     },
     "execution_count": 8,
     "metadata": {},
     "output_type": "execute_result"
    }
   ],
   "source": [
    "#counting the number of numerical value\n",
    "df.select_dtypes(['float', 'int']).any().sum()"
   ]
  },
  {
   "cell_type": "code",
   "execution_count": 9,
   "id": "c85f67a1",
   "metadata": {},
   "outputs": [
    {
     "data": {
      "text/plain": [
       "4"
      ]
     },
     "execution_count": 9,
     "metadata": {},
     "output_type": "execute_result"
    }
   ],
   "source": [
    "#counting the number of object variables\n",
    "df.select_dtypes(['object']).any().sum()"
   ]
  },
  {
   "cell_type": "code",
   "execution_count": 10,
   "id": "77d4b70a",
   "metadata": {},
   "outputs": [
    {
     "data": {
      "text/plain": [
       "Index(['Surname', 'Geography', 'Gender', 'Card Type'], dtype='object')"
      ]
     },
     "execution_count": 10,
     "metadata": {},
     "output_type": "execute_result"
    }
   ],
   "source": [
    "#checking for unique values\n",
    "df.select_dtypes(['object']).columns"
   ]
  },
  {
   "cell_type": "code",
   "execution_count": 11,
   "id": "7dd279c2",
   "metadata": {},
   "outputs": [
    {
     "data": {
      "text/plain": [
       "France     5014\n",
       "Germany    2509\n",
       "Spain      2477\n",
       "Name: Geography, dtype: int64"
      ]
     },
     "execution_count": 11,
     "metadata": {},
     "output_type": "execute_result"
    }
   ],
   "source": [
    "#counting the unique values in geography\n",
    "df['Geography'].value_counts()"
   ]
  },
  {
   "cell_type": "code",
   "execution_count": 12,
   "id": "9c697342",
   "metadata": {},
   "outputs": [],
   "source": [
    "#renaming Geography column to Country\n",
    "df.rename(columns={\n",
    "    'Geography': 'Country'\n",
    "}, inplace=True)"
   ]
  },
  {
   "cell_type": "code",
   "execution_count": 13,
   "id": "79296c40",
   "metadata": {},
   "outputs": [
    {
     "data": {
      "text/plain": [
       "Male      5457\n",
       "Female    4543\n",
       "Name: Gender, dtype: int64"
      ]
     },
     "execution_count": 13,
     "metadata": {},
     "output_type": "execute_result"
    }
   ],
   "source": [
    "#counting the unique values in gender\n",
    "df['Gender'].value_counts()"
   ]
  },
  {
   "cell_type": "code",
   "execution_count": 14,
   "id": "65557db1",
   "metadata": {},
   "outputs": [
    {
     "data": {
      "text/plain": [
       "DIAMOND     2507\n",
       "GOLD        2502\n",
       "SILVER      2496\n",
       "PLATINUM    2495\n",
       "Name: Card Type, dtype: int64"
      ]
     },
     "execution_count": 14,
     "metadata": {},
     "output_type": "execute_result"
    }
   ],
   "source": [
    "#counting the unique values in Card Type\n",
    "df['Card Type'].value_counts()"
   ]
  },
  {
   "cell_type": "code",
   "execution_count": 15,
   "id": "973fdcda",
   "metadata": {},
   "outputs": [
    {
     "data": {
      "text/plain": [
       "['RowNumber',\n",
       " 'CustomerId',\n",
       " 'CreditScore',\n",
       " 'Age',\n",
       " 'Tenure',\n",
       " 'Balance',\n",
       " 'NumOfProducts',\n",
       " 'HasCrCard',\n",
       " 'IsActiveMember',\n",
       " 'EstimatedSalary',\n",
       " 'Exited',\n",
       " 'Complain',\n",
       " 'Satisfaction Score',\n",
       " 'Point Earned']"
      ]
     },
     "execution_count": 15,
     "metadata": {},
     "output_type": "execute_result"
    }
   ],
   "source": [
    "#listing out the numerical columns\n",
    "num_var = []\n",
    "for x in df.select_dtypes(['int', 'float']).columns:\n",
    "    num_var.append(x)\n",
    "num_var"
   ]
  },
  {
   "cell_type": "code",
   "execution_count": 17,
   "id": "b43acc38",
   "metadata": {},
   "outputs": [],
   "source": [
    "#creating a numerical features excluding RowNumber and CustomerId\n",
    "num_feat = num_var[2:]"
   ]
  },
  {
   "cell_type": "code",
   "execution_count": 18,
   "id": "6721237f",
   "metadata": {},
   "outputs": [
    {
     "data": {
      "text/html": [
       "<div>\n",
       "<style scoped>\n",
       "    .dataframe tbody tr th:only-of-type {\n",
       "        vertical-align: middle;\n",
       "    }\n",
       "\n",
       "    .dataframe tbody tr th {\n",
       "        vertical-align: top;\n",
       "    }\n",
       "\n",
       "    .dataframe thead th {\n",
       "        text-align: right;\n",
       "    }\n",
       "</style>\n",
       "<table border=\"1\" class=\"dataframe\">\n",
       "  <thead>\n",
       "    <tr style=\"text-align: right;\">\n",
       "      <th></th>\n",
       "      <th>CreditScore</th>\n",
       "      <th>Age</th>\n",
       "      <th>Tenure</th>\n",
       "      <th>Balance</th>\n",
       "      <th>NumOfProducts</th>\n",
       "      <th>HasCrCard</th>\n",
       "      <th>IsActiveMember</th>\n",
       "      <th>EstimatedSalary</th>\n",
       "      <th>Exited</th>\n",
       "      <th>Complain</th>\n",
       "      <th>Satisfaction Score</th>\n",
       "      <th>Point Earned</th>\n",
       "    </tr>\n",
       "  </thead>\n",
       "  <tbody>\n",
       "    <tr>\n",
       "      <th>count</th>\n",
       "      <td>10000.000000</td>\n",
       "      <td>10000.000000</td>\n",
       "      <td>10000.000000</td>\n",
       "      <td>10000.000000</td>\n",
       "      <td>10000.000000</td>\n",
       "      <td>10000.00000</td>\n",
       "      <td>10000.000000</td>\n",
       "      <td>10000.000000</td>\n",
       "      <td>10000.000000</td>\n",
       "      <td>10000.000000</td>\n",
       "      <td>10000.000000</td>\n",
       "      <td>10000.000000</td>\n",
       "    </tr>\n",
       "    <tr>\n",
       "      <th>mean</th>\n",
       "      <td>650.528800</td>\n",
       "      <td>38.921800</td>\n",
       "      <td>5.012800</td>\n",
       "      <td>76485.889288</td>\n",
       "      <td>1.530200</td>\n",
       "      <td>0.70550</td>\n",
       "      <td>0.515100</td>\n",
       "      <td>100090.239881</td>\n",
       "      <td>0.203800</td>\n",
       "      <td>0.204400</td>\n",
       "      <td>3.013800</td>\n",
       "      <td>606.515100</td>\n",
       "    </tr>\n",
       "    <tr>\n",
       "      <th>std</th>\n",
       "      <td>96.653299</td>\n",
       "      <td>10.487806</td>\n",
       "      <td>2.892174</td>\n",
       "      <td>62397.405202</td>\n",
       "      <td>0.581654</td>\n",
       "      <td>0.45584</td>\n",
       "      <td>0.499797</td>\n",
       "      <td>57510.492818</td>\n",
       "      <td>0.402842</td>\n",
       "      <td>0.403283</td>\n",
       "      <td>1.405919</td>\n",
       "      <td>225.924839</td>\n",
       "    </tr>\n",
       "    <tr>\n",
       "      <th>min</th>\n",
       "      <td>350.000000</td>\n",
       "      <td>18.000000</td>\n",
       "      <td>0.000000</td>\n",
       "      <td>0.000000</td>\n",
       "      <td>1.000000</td>\n",
       "      <td>0.00000</td>\n",
       "      <td>0.000000</td>\n",
       "      <td>11.580000</td>\n",
       "      <td>0.000000</td>\n",
       "      <td>0.000000</td>\n",
       "      <td>1.000000</td>\n",
       "      <td>119.000000</td>\n",
       "    </tr>\n",
       "    <tr>\n",
       "      <th>25%</th>\n",
       "      <td>584.000000</td>\n",
       "      <td>32.000000</td>\n",
       "      <td>3.000000</td>\n",
       "      <td>0.000000</td>\n",
       "      <td>1.000000</td>\n",
       "      <td>0.00000</td>\n",
       "      <td>0.000000</td>\n",
       "      <td>51002.110000</td>\n",
       "      <td>0.000000</td>\n",
       "      <td>0.000000</td>\n",
       "      <td>2.000000</td>\n",
       "      <td>410.000000</td>\n",
       "    </tr>\n",
       "    <tr>\n",
       "      <th>50%</th>\n",
       "      <td>652.000000</td>\n",
       "      <td>37.000000</td>\n",
       "      <td>5.000000</td>\n",
       "      <td>97198.540000</td>\n",
       "      <td>1.000000</td>\n",
       "      <td>1.00000</td>\n",
       "      <td>1.000000</td>\n",
       "      <td>100193.915000</td>\n",
       "      <td>0.000000</td>\n",
       "      <td>0.000000</td>\n",
       "      <td>3.000000</td>\n",
       "      <td>605.000000</td>\n",
       "    </tr>\n",
       "    <tr>\n",
       "      <th>75%</th>\n",
       "      <td>718.000000</td>\n",
       "      <td>44.000000</td>\n",
       "      <td>7.000000</td>\n",
       "      <td>127644.240000</td>\n",
       "      <td>2.000000</td>\n",
       "      <td>1.00000</td>\n",
       "      <td>1.000000</td>\n",
       "      <td>149388.247500</td>\n",
       "      <td>0.000000</td>\n",
       "      <td>0.000000</td>\n",
       "      <td>4.000000</td>\n",
       "      <td>801.000000</td>\n",
       "    </tr>\n",
       "    <tr>\n",
       "      <th>max</th>\n",
       "      <td>850.000000</td>\n",
       "      <td>92.000000</td>\n",
       "      <td>10.000000</td>\n",
       "      <td>250898.090000</td>\n",
       "      <td>4.000000</td>\n",
       "      <td>1.00000</td>\n",
       "      <td>1.000000</td>\n",
       "      <td>199992.480000</td>\n",
       "      <td>1.000000</td>\n",
       "      <td>1.000000</td>\n",
       "      <td>5.000000</td>\n",
       "      <td>1000.000000</td>\n",
       "    </tr>\n",
       "  </tbody>\n",
       "</table>\n",
       "</div>"
      ],
      "text/plain": [
       "        CreditScore           Age        Tenure        Balance  NumOfProducts  \\\n",
       "count  10000.000000  10000.000000  10000.000000   10000.000000   10000.000000   \n",
       "mean     650.528800     38.921800      5.012800   76485.889288       1.530200   \n",
       "std       96.653299     10.487806      2.892174   62397.405202       0.581654   \n",
       "min      350.000000     18.000000      0.000000       0.000000       1.000000   \n",
       "25%      584.000000     32.000000      3.000000       0.000000       1.000000   \n",
       "50%      652.000000     37.000000      5.000000   97198.540000       1.000000   \n",
       "75%      718.000000     44.000000      7.000000  127644.240000       2.000000   \n",
       "max      850.000000     92.000000     10.000000  250898.090000       4.000000   \n",
       "\n",
       "         HasCrCard  IsActiveMember  EstimatedSalary        Exited  \\\n",
       "count  10000.00000    10000.000000     10000.000000  10000.000000   \n",
       "mean       0.70550        0.515100    100090.239881      0.203800   \n",
       "std        0.45584        0.499797     57510.492818      0.402842   \n",
       "min        0.00000        0.000000        11.580000      0.000000   \n",
       "25%        0.00000        0.000000     51002.110000      0.000000   \n",
       "50%        1.00000        1.000000    100193.915000      0.000000   \n",
       "75%        1.00000        1.000000    149388.247500      0.000000   \n",
       "max        1.00000        1.000000    199992.480000      1.000000   \n",
       "\n",
       "           Complain  Satisfaction Score  Point Earned  \n",
       "count  10000.000000        10000.000000  10000.000000  \n",
       "mean       0.204400            3.013800    606.515100  \n",
       "std        0.403283            1.405919    225.924839  \n",
       "min        0.000000            1.000000    119.000000  \n",
       "25%        0.000000            2.000000    410.000000  \n",
       "50%        0.000000            3.000000    605.000000  \n",
       "75%        0.000000            4.000000    801.000000  \n",
       "max        1.000000            5.000000   1000.000000  "
      ]
     },
     "execution_count": 18,
     "metadata": {},
     "output_type": "execute_result"
    }
   ],
   "source": [
    "#displaying the descriptive statistics of the numerical columns\n",
    "df[num_feat].describe()"
   ]
  },
  {
   "cell_type": "markdown",
   "id": "0de29ebb",
   "metadata": {},
   "source": [
    "### Feature Engineering"
   ]
  },
  {
   "cell_type": "markdown",
   "id": "2a2a6789",
   "metadata": {},
   "source": [
    "#### Create a copy of the dataframe for feature engineering and exploration"
   ]
  },
  {
   "cell_type": "code",
   "execution_count": 19,
   "id": "7e8ba30e",
   "metadata": {},
   "outputs": [],
   "source": [
    "#creating a copy of the dataframe\n",
    "df1 = df.copy()"
   ]
  },
  {
   "cell_type": "code",
   "execution_count": 20,
   "id": "5cf424c0",
   "metadata": {},
   "outputs": [
    {
     "data": {
      "text/html": [
       "<div>\n",
       "<style scoped>\n",
       "    .dataframe tbody tr th:only-of-type {\n",
       "        vertical-align: middle;\n",
       "    }\n",
       "\n",
       "    .dataframe tbody tr th {\n",
       "        vertical-align: top;\n",
       "    }\n",
       "\n",
       "    .dataframe thead th {\n",
       "        text-align: right;\n",
       "    }\n",
       "</style>\n",
       "<table border=\"1\" class=\"dataframe\">\n",
       "  <thead>\n",
       "    <tr style=\"text-align: right;\">\n",
       "      <th></th>\n",
       "      <th>RowNumber</th>\n",
       "      <th>CustomerId</th>\n",
       "      <th>Surname</th>\n",
       "      <th>CreditScore</th>\n",
       "      <th>Country</th>\n",
       "      <th>Gender</th>\n",
       "      <th>Age</th>\n",
       "      <th>Tenure</th>\n",
       "      <th>Balance</th>\n",
       "      <th>NumOfProducts</th>\n",
       "      <th>HasCrCard</th>\n",
       "      <th>IsActiveMember</th>\n",
       "      <th>EstimatedSalary</th>\n",
       "      <th>Exited</th>\n",
       "      <th>Complain</th>\n",
       "      <th>Satisfaction Score</th>\n",
       "      <th>Card Type</th>\n",
       "      <th>Point Earned</th>\n",
       "    </tr>\n",
       "  </thead>\n",
       "  <tbody>\n",
       "    <tr>\n",
       "      <th>0</th>\n",
       "      <td>1</td>\n",
       "      <td>15634602</td>\n",
       "      <td>Hargrave</td>\n",
       "      <td>619</td>\n",
       "      <td>France</td>\n",
       "      <td>Female</td>\n",
       "      <td>42</td>\n",
       "      <td>2</td>\n",
       "      <td>0.00</td>\n",
       "      <td>1</td>\n",
       "      <td>1</td>\n",
       "      <td>1</td>\n",
       "      <td>101348.88</td>\n",
       "      <td>1</td>\n",
       "      <td>1</td>\n",
       "      <td>2</td>\n",
       "      <td>DIAMOND</td>\n",
       "      <td>464</td>\n",
       "    </tr>\n",
       "    <tr>\n",
       "      <th>1</th>\n",
       "      <td>2</td>\n",
       "      <td>15647311</td>\n",
       "      <td>Hill</td>\n",
       "      <td>608</td>\n",
       "      <td>Spain</td>\n",
       "      <td>Female</td>\n",
       "      <td>41</td>\n",
       "      <td>1</td>\n",
       "      <td>83807.86</td>\n",
       "      <td>1</td>\n",
       "      <td>0</td>\n",
       "      <td>1</td>\n",
       "      <td>112542.58</td>\n",
       "      <td>0</td>\n",
       "      <td>1</td>\n",
       "      <td>3</td>\n",
       "      <td>DIAMOND</td>\n",
       "      <td>456</td>\n",
       "    </tr>\n",
       "  </tbody>\n",
       "</table>\n",
       "</div>"
      ],
      "text/plain": [
       "   RowNumber  CustomerId   Surname  CreditScore Country  Gender  Age  Tenure  \\\n",
       "0          1    15634602  Hargrave          619  France  Female   42       2   \n",
       "1          2    15647311      Hill          608   Spain  Female   41       1   \n",
       "\n",
       "    Balance  NumOfProducts  HasCrCard  IsActiveMember  EstimatedSalary  \\\n",
       "0      0.00              1          1               1        101348.88   \n",
       "1  83807.86              1          0               1        112542.58   \n",
       "\n",
       "   Exited  Complain  Satisfaction Score Card Type  Point Earned  \n",
       "0       1         1                   2   DIAMOND           464  \n",
       "1       0         1                   3   DIAMOND           456  "
      ]
     },
     "execution_count": 20,
     "metadata": {},
     "output_type": "execute_result"
    }
   ],
   "source": [
    "#display first few lines\n",
    "df1.head(2)"
   ]
  },
  {
   "cell_type": "code",
   "execution_count": 21,
   "id": "75cefceb",
   "metadata": {},
   "outputs": [],
   "source": [
    "#Map HasCrCard column to Owned and Not Owned\n",
    "map_dict1 = {\n",
    "    1: 'Owned',\n",
    "    0: 'Not Owned'\n",
    "}\n",
    "df1['HasCrCard'] = df1['HasCrCard'].map(map_dict1)"
   ]
  },
  {
   "cell_type": "code",
   "execution_count": 22,
   "id": "6ddccd0a",
   "metadata": {},
   "outputs": [
    {
     "data": {
      "text/plain": [
       "Owned        7055\n",
       "Not Owned    2945\n",
       "Name: HasCrCard, dtype: int64"
      ]
     },
     "execution_count": 22,
     "metadata": {},
     "output_type": "execute_result"
    }
   ],
   "source": [
    "#confirming the columns has been mapped\n",
    "df1['HasCrCard'].value_counts()"
   ]
  },
  {
   "cell_type": "code",
   "execution_count": 23,
   "id": "6c60fc6b",
   "metadata": {},
   "outputs": [],
   "source": [
    "#renaming the column IsActiveMember to Activity Status\n",
    "df1.rename(columns={\n",
    "    'IsActiveMember': 'Activity Status'\n",
    "}, inplace=True)\n",
    "\n",
    "\n",
    "\n",
    "# Map Activity Status to Active and Inactive\n",
    "dict2 = {\n",
    "    1: 'Active',\n",
    "    0: 'Not Active'\n",
    "}\n",
    "\n",
    "df1['Activity Status'] = df1['Activity Status'].map(dict2)"
   ]
  },
  {
   "cell_type": "code",
   "execution_count": 24,
   "id": "fabca6b4",
   "metadata": {},
   "outputs": [
    {
     "data": {
      "text/plain": [
       "Active        5151\n",
       "Not Active    4849\n",
       "Name: Activity Status, dtype: int64"
      ]
     },
     "execution_count": 24,
     "metadata": {},
     "output_type": "execute_result"
    }
   ],
   "source": [
    "#checking the Activity Status has been mapped\n",
    "df1['Activity Status'].value_counts()"
   ]
  },
  {
   "cell_type": "code",
   "execution_count": 25,
   "id": "410a4be2",
   "metadata": {},
   "outputs": [],
   "source": [
    "#dropping Estimated Salary\n",
    "df1.drop('EstimatedSalary', axis=1, inplace=True)"
   ]
  },
  {
   "cell_type": "code",
   "execution_count": 26,
   "id": "6e8e1aad",
   "metadata": {},
   "outputs": [],
   "source": [
    "#Renaming Exited to Churned Status\n",
    "df1.rename(columns={\n",
    "    'Exited': 'Churned Status'\n",
    "}, inplace=True)\n",
    "\n",
    "\n",
    "#maping the Churned Status to Churned and Not Churned\n",
    "dict3 = {\n",
    "    1: 'Churned',\n",
    "    0: 'Not Churned'\n",
    "}\n",
    "\n",
    "df1['Churned Status'] = df1['Churned Status'].map(dict3)"
   ]
  },
  {
   "cell_type": "code",
   "execution_count": 27,
   "id": "5bdba001",
   "metadata": {},
   "outputs": [
    {
     "data": {
      "text/plain": [
       "Not Churned    7962\n",
       "Churned        2038\n",
       "Name: Churned Status, dtype: int64"
      ]
     },
     "execution_count": 27,
     "metadata": {},
     "output_type": "execute_result"
    }
   ],
   "source": [
    "#Checking the Churned Status has been mapped\n",
    "df1['Churned Status'].value_counts()"
   ]
  },
  {
   "cell_type": "code",
   "execution_count": 28,
   "id": "11e0e205",
   "metadata": {},
   "outputs": [],
   "source": [
    "#mapping Column to Complained and No Complain\n",
    "dict4 = {\n",
    "    1: 'Complained',\n",
    "    0: 'No Complain'\n",
    "}\n",
    "df1['Complain'] = df1['Complain'].map(dict4)"
   ]
  },
  {
   "cell_type": "code",
   "execution_count": 29,
   "id": "0d5bdc87",
   "metadata": {},
   "outputs": [
    {
     "data": {
      "text/plain": [
       "No Complain    7956\n",
       "Complained     2044\n",
       "Name: Complain, dtype: int64"
      ]
     },
     "execution_count": 29,
     "metadata": {},
     "output_type": "execute_result"
    }
   ],
   "source": [
    "#checking the Complain Status has been mapped\n",
    "df1['Complain'].value_counts()"
   ]
  },
  {
   "cell_type": "code",
   "execution_count": 30,
   "id": "b0893c37",
   "metadata": {},
   "outputs": [],
   "source": [
    "#mapping Satisfaction Score\n",
    "dict5 = {\n",
    "    1: 'Very Unsatisfied',\n",
    "    2: 'Unsatisfied',\n",
    "    3: 'Neutral',\n",
    "    4: 'Satisfied',\n",
    "    5: 'Very Satisfied'\n",
    "}\n",
    "\n",
    "df1['Satisfaction Score'] = df1['Satisfaction Score'].map(dict5)"
   ]
  },
  {
   "cell_type": "code",
   "execution_count": 31,
   "id": "04a3b75f",
   "metadata": {},
   "outputs": [
    {
     "data": {
      "text/plain": [
       "Neutral             2042\n",
       "Unsatisfied         2014\n",
       "Satisfied           2008\n",
       "Very Satisfied      2004\n",
       "Very Unsatisfied    1932\n",
       "Name: Satisfaction Score, dtype: int64"
      ]
     },
     "execution_count": 31,
     "metadata": {},
     "output_type": "execute_result"
    }
   ],
   "source": [
    "#checking the Satisfaction Score has been mapped\n",
    "df1['Satisfaction Score'].value_counts()"
   ]
  },
  {
   "cell_type": "code",
   "execution_count": 32,
   "id": "a2c8936c",
   "metadata": {},
   "outputs": [],
   "source": [
    "#creating new columns for exploration (Age Group, Act Balance, Points Earned, Credit Score)\n",
    "\n",
    "#creating an empty list\n",
    "age_grp = []\n",
    "\n",
    "#creating a loop and append the value to age_grp\n",
    "for x in df1['Age']:\n",
    "    if x <= 20:\n",
    "        age_grp.append('<= 20')\n",
    "    elif x <= 30:\n",
    "        age_grp.append('21 - 30')\n",
    "    elif x <= 40:\n",
    "        age_grp.append('31 - 40')\n",
    "    elif x <= 50:\n",
    "        age_grp.append('41 - 50')\n",
    "    elif x <= 60:\n",
    "        age_grp.append('51 - 60')\n",
    "    elif x <= 70:\n",
    "        age_grp.append('61 - 70')\n",
    "    elif x > 70:\n",
    "        age_grp.append('> 70')\n",
    "\n",
    "df1['Age Group'] = age_grp"
   ]
  },
  {
   "cell_type": "code",
   "execution_count": 33,
   "id": "da505d1e",
   "metadata": {},
   "outputs": [
    {
     "data": {
      "text/plain": [
       "31 - 40    4451\n",
       "41 - 50    2320\n",
       "21 - 30    1879\n",
       "51 - 60     797\n",
       "61 - 70     331\n",
       "> 70        133\n",
       "<= 20        89\n",
       "Name: Age Group, dtype: int64"
      ]
     },
     "execution_count": 33,
     "metadata": {},
     "output_type": "execute_result"
    }
   ],
   "source": [
    "df1['Age Group'].value_counts()"
   ]
  },
  {
   "cell_type": "code",
   "execution_count": 34,
   "id": "677c088c",
   "metadata": {},
   "outputs": [],
   "source": [
    "#creating an empty list\n",
    "acct_bal = []\n",
    "\n",
    "#creating a loop and append the value to age_grp\n",
    "for x in df1['Balance']:\n",
    "    if x <= 10000:\n",
    "        acct_bal.append('<= 10K')\n",
    "    elif x <= 100000:\n",
    "        acct_bal.append('10K - 100K')\n",
    "    elif x <= 200000:\n",
    "        acct_bal.append('100K - 200K')\n",
    "    elif x > 200000:\n",
    "        acct_bal.append('> 200K')\n",
    "\n",
    "\n",
    "\n",
    "df1['Acct Balance'] = acct_bal"
   ]
  },
  {
   "cell_type": "code",
   "execution_count": 35,
   "id": "4bc4c792",
   "metadata": {},
   "outputs": [
    {
     "data": {
      "text/plain": [
       "100K - 200K    4765\n",
       "<= 10K         3618\n",
       "10K - 100K     1583\n",
       "> 200K           34\n",
       "Name: Acct Balance, dtype: int64"
      ]
     },
     "execution_count": 35,
     "metadata": {},
     "output_type": "execute_result"
    }
   ],
   "source": [
    "df1['Acct Balance'].value_counts()"
   ]
  },
  {
   "cell_type": "code",
   "execution_count": 36,
   "id": "d87ce597",
   "metadata": {},
   "outputs": [],
   "source": [
    "#creating an empty list\n",
    "pt_grp = []\n",
    "\n",
    "#creating a loop and append the value to age_grp\n",
    "for x in df1['Point Earned']:\n",
    "    if x >= 100 and x <= 200:\n",
    "        pt_grp.append('100 - 200')\n",
    "    elif x > 200 and x <= 300:\n",
    "        pt_grp.append('201 - 300')\n",
    "    elif x > 300 and x <= 400:\n",
    "        pt_grp.append('301 - 400')\n",
    "    elif x > 400 and x <= 500:\n",
    "        pt_grp.append('401 - 500')\n",
    "    elif x > 500 and x <= 600:\n",
    "        pt_grp.append('501 - 600')\n",
    "    elif x > 600 and x <= 700:\n",
    "        pt_grp.append('601 - 700')\n",
    "    elif x > 700 and x <= 800:\n",
    "        pt_grp.append('701 - 800')\n",
    "    elif x > 800 and x <= 900:\n",
    "        pt_grp.append('801 - 900')\n",
    "    elif x > 900 and x <= 1000:\n",
    "        pt_grp.append('901 - 1000')\n",
    "\n",
    "df1['Point Earned Group'] = pt_grp"
   ]
  },
  {
   "cell_type": "code",
   "execution_count": 37,
   "id": "6657694d",
   "metadata": {},
   "outputs": [
    {
     "data": {
      "text/plain": [
       "501 - 600     1350\n",
       "701 - 800     1279\n",
       "601 - 700     1274\n",
       "301 - 400     1267\n",
       "901 - 1000    1258\n",
       "801 - 900     1243\n",
       "401 - 500     1239\n",
       "201 - 300     1088\n",
       "100 - 200        2\n",
       "Name: Point Earned Group, dtype: int64"
      ]
     },
     "execution_count": 37,
     "metadata": {},
     "output_type": "execute_result"
    }
   ],
   "source": [
    "df1['Point Earned Group'].value_counts()"
   ]
  },
  {
   "cell_type": "code",
   "execution_count": 38,
   "id": "a34848a3",
   "metadata": {},
   "outputs": [],
   "source": [
    "#Creating the Credit Score Group\n",
    "\n",
    "#creating an empty list\n",
    "cr_grp = []\n",
    "\n",
    "#creating a loop and append the value to age_grp\n",
    "for x in df1['Point Earned']:\n",
    "    if x <= 400:\n",
    "        cr_grp.append('<= 400')\n",
    "    elif x > 400 and x <= 500:\n",
    "        cr_grp.append('401 - 500')\n",
    "    elif x > 500 and x <= 600:\n",
    "        cr_grp.append('501 - 600')\n",
    "    elif x > 600 and x <= 700:\n",
    "        cr_grp.append('601 - 700')\n",
    "    elif x > 700 and x <= 800:\n",
    "        cr_grp.append('701 - 800')\n",
    "    elif x > 800:\n",
    "        cr_grp.append('> 800')\n",
    "\n",
    "df1['Credit Score Group'] = cr_grp"
   ]
  },
  {
   "cell_type": "code",
   "execution_count": 39,
   "id": "a42428d7",
   "metadata": {},
   "outputs": [
    {
     "data": {
      "text/plain": [
       "> 800        2501\n",
       "<= 400       2357\n",
       "501 - 600    1350\n",
       "701 - 800    1279\n",
       "601 - 700    1274\n",
       "401 - 500    1239\n",
       "Name: Credit Score Group, dtype: int64"
      ]
     },
     "execution_count": 39,
     "metadata": {},
     "output_type": "execute_result"
    }
   ],
   "source": [
    "#checking if the credit score group have been created\n",
    "df1['Credit Score Group'].value_counts()"
   ]
  },
  {
   "cell_type": "markdown",
   "id": "1d8460fe",
   "metadata": {},
   "source": [
    "## Data Exploration"
   ]
  },
  {
   "cell_type": "markdown",
   "id": "781e0b56",
   "metadata": {},
   "source": [
    "### Univariate Exploration"
   ]
  },
  {
   "cell_type": "markdown",
   "id": "b1f05db9",
   "metadata": {},
   "source": [
    "#### Exploration of Categorical Variables"
   ]
  },
  {
   "cell_type": "code",
   "execution_count": 40,
   "id": "0a919016",
   "metadata": {},
   "outputs": [
    {
     "data": {
      "image/png": "[encoded data removed]",
      "text/plain": [
       "<Figure size 1400x400 with 3 Axes>"
      ]
     },
     "metadata": {},
     "output_type": "display_data"
    }
   ],
   "source": [
    "#Exploring the Categorical variables(Gender, Card Type, Geography)\n",
    "fig, ax = plt.subplots(1, 3, figsize=[14, 4])\n",
    "ax[0].bar(x=df1['Gender'].value_counts().index, height=df1['Gender'].value_counts().values)\n",
    "ax[1].bar(x=df1['Card Type'].value_counts().index, height=df1['Card Type'].value_counts().values)\n",
    "ax[2].bar(x=df1['Country'].value_counts().index, height=df1['Country'].value_counts().values)\n",
    "\n",
    "#removing spines\n",
    "ax[0].spines[['left', 'right', 'top']].set_visible(False)\n",
    "ax[1].spines[['left', 'right', 'top']].set_visible(False)\n",
    "ax[2].spines[['left', 'right', 'top']].set_visible(False)\n",
    "\n",
    "#remove the yaxis\n",
    "ax[0].yaxis.set_visible(False)\n",
    "ax[1].yaxis.set_visible(False)\n",
    "ax[2].yaxis.set_visible(False)\n",
    "\n",
    "#add annotation\n",
    "for index, values in enumerate(df1['Gender'].value_counts()):\n",
    "    ax[0].annotate(values, xy=(index, values+70), ha='center', va='center')\n",
    "\n",
    "for index, values in enumerate(df1['Card Type'].value_counts()):\n",
    "    ax[1].annotate(values, xy=(index, values+39), ha='center', va='center')\n",
    "    \n",
    "for index, values in enumerate(df1['Country'].value_counts()):\n",
    "    ax[2].annotate(values, xy=(index, values+80), ha='center', va='center')\n",
    "    \n",
    "#add title\n",
    "ax[0].set_title('Distribution of Gender')\n",
    "ax[1].set_title('Distribution of Card Type')\n",
    "ax[2].set_title('Distribution of Country')\n",
    "    \n",
    "plt.show()"
   ]
  },
  {
   "cell_type": "code",
   "execution_count": null,
   "id": "8287eedb",
   "metadata": {},
   "outputs": [],
   "source": []
  },
  {
   "cell_type": "code",
   "execution_count": 41,
   "id": "0825a83e",
   "metadata": {},
   "outputs": [
    {
     "data": {
      "image/png": "[encoded data removed]",
      "text/plain": [
       "<Figure size 700x400 with 1 Axes>"
      ]
     },
     "metadata": {},
     "output_type": "display_data"
    }
   ],
   "source": [
    "#exploring the Age Group\n",
    "\n",
    "fig, ax = plt.subplots(figsize=[7, 4])\n",
    "ax.bar(x=df1['Age Group'].value_counts().index, height=df1['Age Group'].value_counts().values)\n",
    "\n",
    "#removing spines\n",
    "ax.spines[['left', 'right', 'top']].set_visible(False)\n",
    "\n",
    "\n",
    "#remove the yaxis\n",
    "ax.yaxis.set_visible(False)\n",
    "\n",
    "#add annotation\n",
    "for index, values in enumerate(df1['Age Group'].value_counts()):\n",
    "    ax.annotate(values, xy=(index, values+50), ha='center', va='center')\n",
    "\n",
    "#add title\n",
    "ax.set_title('Distribution of Age Group')\n",
    "\n",
    "plt.show()"
   ]
  },
  {
   "cell_type": "markdown",
   "id": "9ab993ed",
   "metadata": {},
   "source": [
    "## Data Analysis"
   ]
  },
  {
   "cell_type": "markdown",
   "id": "d2576f9a",
   "metadata": {},
   "source": [
    "### Total Customers"
   ]
  },
  {
   "cell_type": "code",
   "execution_count": 42,
   "id": "4cc312c8",
   "metadata": {},
   "outputs": [
    {
     "data": {
      "text/plain": [
       "10000"
      ]
     },
     "execution_count": 42,
     "metadata": {},
     "output_type": "execute_result"
    }
   ],
   "source": [
    "#Calculating total customers\n",
    "total_customers = df1['CustomerId'].count()\n",
    "total_customers"
   ]
  },
  {
   "cell_type": "markdown",
   "id": "5b750432",
   "metadata": {},
   "source": [
    "### Total Churned Customers"
   ]
  },
  {
   "cell_type": "code",
   "execution_count": 43,
   "id": "fef92ebb",
   "metadata": {},
   "outputs": [],
   "source": [
    "#Creating the churn dataframe\n",
    "churned_df = df1[df1['Churned Status']=='Churned']"
   ]
  },
  {
   "cell_type": "code",
   "execution_count": 44,
   "id": "39f2d8ad",
   "metadata": {},
   "outputs": [
    {
     "data": {
      "text/plain": [
       "2038"
      ]
     },
     "execution_count": 44,
     "metadata": {},
     "output_type": "execute_result"
    }
   ],
   "source": [
    "#calculating total churn\n",
    "total_churn = churned_df['CustomerId'].count()\n",
    "total_churn"
   ]
  },
  {
   "cell_type": "markdown",
   "id": "ad3d7dca",
   "metadata": {},
   "source": [
    "### Churn Rate"
   ]
  },
  {
   "cell_type": "code",
   "execution_count": 45,
   "id": "65484886",
   "metadata": {},
   "outputs": [
    {
     "data": {
      "text/plain": [
       "20.38"
      ]
     },
     "execution_count": 45,
     "metadata": {},
     "output_type": "execute_result"
    }
   ],
   "source": [
    "#calculating the churn rate\n",
    "churn_rate = ((total_churn/total_customers)*100).round(2)\n",
    "churn_rate"
   ]
  },
  {
   "cell_type": "code",
   "execution_count": null,
   "id": "2258613e",
   "metadata": {},
   "outputs": [],
   "source": []
  },
  {
   "cell_type": "markdown",
   "id": "6d8abfd7",
   "metadata": {},
   "source": [
    "## Churn Rate by Gender and Account Activity"
   ]
  },
  {
   "cell_type": "markdown",
   "id": "0cf3362d",
   "metadata": {},
   "source": [
    "### Summarize the data by Gender"
   ]
  },
  {
   "cell_type": "code",
   "execution_count": 46,
   "id": "670c7312",
   "metadata": {},
   "outputs": [
    {
     "data": {
      "text/html": [
       "<div>\n",
       "<style scoped>\n",
       "    .dataframe tbody tr th:only-of-type {\n",
       "        vertical-align: middle;\n",
       "    }\n",
       "\n",
       "    .dataframe tbody tr th {\n",
       "        vertical-align: top;\n",
       "    }\n",
       "\n",
       "    .dataframe thead th {\n",
       "        text-align: right;\n",
       "    }\n",
       "</style>\n",
       "<table border=\"1\" class=\"dataframe\">\n",
       "  <thead>\n",
       "    <tr style=\"text-align: right;\">\n",
       "      <th>Churned Status</th>\n",
       "      <th>Churned</th>\n",
       "      <th>Not Churned</th>\n",
       "    </tr>\n",
       "    <tr>\n",
       "      <th>Gender</th>\n",
       "      <th></th>\n",
       "      <th></th>\n",
       "    </tr>\n",
       "  </thead>\n",
       "  <tbody>\n",
       "    <tr>\n",
       "      <th>Female</th>\n",
       "      <td>1139</td>\n",
       "      <td>3404</td>\n",
       "    </tr>\n",
       "    <tr>\n",
       "      <th>Male</th>\n",
       "      <td>899</td>\n",
       "      <td>4558</td>\n",
       "    </tr>\n",
       "  </tbody>\n",
       "</table>\n",
       "</div>"
      ],
      "text/plain": [
       "Churned Status  Churned  Not Churned\n",
       "Gender                              \n",
       "Female             1139         3404\n",
       "Male                899         4558"
      ]
     },
     "execution_count": 46,
     "metadata": {},
     "output_type": "execute_result"
    }
   ],
   "source": [
    "#Summarize the data by Gender\n",
    "gender_churn = df1.pivot_table(index='Gender', columns='Churned Status', values='CustomerId', aggfunc='count')\n",
    "gender_churn"
   ]
  },
  {
   "cell_type": "code",
   "execution_count": 47,
   "id": "6690570b",
   "metadata": {},
   "outputs": [],
   "source": [
    "#create the percentage churned and not churned for the gender\n",
    "gender_churn['% Churned'] = round((gender_churn['Churned']/(gender_churn['Churned']+gender_churn['Not Churned']))*100, 1)\n",
    "gender_churn['% Not Churned'] = round((gender_churn['Not Churned']/(gender_churn['Churned']+gender_churn['Not Churned']))*100, 1)"
   ]
  },
  {
   "cell_type": "code",
   "execution_count": 48,
   "id": "6d5d2b7d",
   "metadata": {},
   "outputs": [
    {
     "data": {
      "text/html": [
       "<div>\n",
       "<style scoped>\n",
       "    .dataframe tbody tr th:only-of-type {\n",
       "        vertical-align: middle;\n",
       "    }\n",
       "\n",
       "    .dataframe tbody tr th {\n",
       "        vertical-align: top;\n",
       "    }\n",
       "\n",
       "    .dataframe thead th {\n",
       "        text-align: right;\n",
       "    }\n",
       "</style>\n",
       "<table border=\"1\" class=\"dataframe\">\n",
       "  <thead>\n",
       "    <tr style=\"text-align: right;\">\n",
       "      <th>Churned Status</th>\n",
       "      <th>Churned</th>\n",
       "      <th>Not Churned</th>\n",
       "      <th>% Churned</th>\n",
       "      <th>% Not Churned</th>\n",
       "    </tr>\n",
       "    <tr>\n",
       "      <th>Gender</th>\n",
       "      <th></th>\n",
       "      <th></th>\n",
       "      <th></th>\n",
       "      <th></th>\n",
       "    </tr>\n",
       "  </thead>\n",
       "  <tbody>\n",
       "    <tr>\n",
       "      <th>Female</th>\n",
       "      <td>1139</td>\n",
       "      <td>3404</td>\n",
       "      <td>25.1</td>\n",
       "      <td>74.9</td>\n",
       "    </tr>\n",
       "    <tr>\n",
       "      <th>Male</th>\n",
       "      <td>899</td>\n",
       "      <td>4558</td>\n",
       "      <td>16.5</td>\n",
       "      <td>83.5</td>\n",
       "    </tr>\n",
       "  </tbody>\n",
       "</table>\n",
       "</div>"
      ],
      "text/plain": [
       "Churned Status  Churned  Not Churned  % Churned  % Not Churned\n",
       "Gender                                                        \n",
       "Female             1139         3404       25.1           74.9\n",
       "Male                899         4558       16.5           83.5"
      ]
     },
     "execution_count": 48,
     "metadata": {},
     "output_type": "execute_result"
    }
   ],
   "source": [
    "#display the gender churn\n",
    "gender_churn"
   ]
  },
  {
   "cell_type": "markdown",
   "id": "b42971e6",
   "metadata": {},
   "source": [
    "### Summarize the data by Account Activity"
   ]
  },
  {
   "cell_type": "code",
   "execution_count": 50,
   "id": "9db97bf9",
   "metadata": {},
   "outputs": [
    {
     "data": {
      "text/html": [
       "<div>\n",
       "<style scoped>\n",
       "    .dataframe tbody tr th:only-of-type {\n",
       "        vertical-align: middle;\n",
       "    }\n",
       "\n",
       "    .dataframe tbody tr th {\n",
       "        vertical-align: top;\n",
       "    }\n",
       "\n",
       "    .dataframe thead th {\n",
       "        text-align: right;\n",
       "    }\n",
       "</style>\n",
       "<table border=\"1\" class=\"dataframe\">\n",
       "  <thead>\n",
       "    <tr style=\"text-align: right;\">\n",
       "      <th>Churned Status</th>\n",
       "      <th>Churned</th>\n",
       "      <th>Not Churned</th>\n",
       "    </tr>\n",
       "    <tr>\n",
       "      <th>Activity Status</th>\n",
       "      <th></th>\n",
       "      <th></th>\n",
       "    </tr>\n",
       "  </thead>\n",
       "  <tbody>\n",
       "    <tr>\n",
       "      <th>Active</th>\n",
       "      <td>735</td>\n",
       "      <td>4416</td>\n",
       "    </tr>\n",
       "    <tr>\n",
       "      <th>Not Active</th>\n",
       "      <td>1303</td>\n",
       "      <td>3546</td>\n",
       "    </tr>\n",
       "  </tbody>\n",
       "</table>\n",
       "</div>"
      ],
      "text/plain": [
       "Churned Status   Churned  Not Churned\n",
       "Activity Status                      \n",
       "Active               735         4416\n",
       "Not Active          1303         3546"
      ]
     },
     "execution_count": 50,
     "metadata": {},
     "output_type": "execute_result"
    }
   ],
   "source": [
    "#summarize the account activity\n",
    "act_churn = df1.pivot_table(index='Activity Status', columns='Churned Status', values='CustomerId', aggfunc='count')\n",
    "act_churn"
   ]
  },
  {
   "cell_type": "code",
   "execution_count": 51,
   "id": "3aa7af55",
   "metadata": {},
   "outputs": [],
   "source": [
    "#creating percentage churn and not churn columns\n",
    "act_churn['% Churned'] = round((act_churn['Churned']/(act_churn['Churned']+act_churn['Not Churned']))*100, 1)\n",
    "act_churn['% Not Churned'] = round((act_churn['Not Churned']/(act_churn['Churned']+act_churn['Not Churned']))*100, 1)"
   ]
  },
  {
   "cell_type": "code",
   "execution_count": 52,
   "id": "d787a19b",
   "metadata": {},
   "outputs": [
    {
     "data": {
      "text/html": [
       "<div>\n",
       "<style scoped>\n",
       "    .dataframe tbody tr th:only-of-type {\n",
       "        vertical-align: middle;\n",
       "    }\n",
       "\n",
       "    .dataframe tbody tr th {\n",
       "        vertical-align: top;\n",
       "    }\n",
       "\n",
       "    .dataframe thead th {\n",
       "        text-align: right;\n",
       "    }\n",
       "</style>\n",
       "<table border=\"1\" class=\"dataframe\">\n",
       "  <thead>\n",
       "    <tr style=\"text-align: right;\">\n",
       "      <th>Churned Status</th>\n",
       "      <th>Churned</th>\n",
       "      <th>Not Churned</th>\n",
       "      <th>% Churned</th>\n",
       "      <th>% Not Churned</th>\n",
       "    </tr>\n",
       "    <tr>\n",
       "      <th>Activity Status</th>\n",
       "      <th></th>\n",
       "      <th></th>\n",
       "      <th></th>\n",
       "      <th></th>\n",
       "    </tr>\n",
       "  </thead>\n",
       "  <tbody>\n",
       "    <tr>\n",
       "      <th>Active</th>\n",
       "      <td>735</td>\n",
       "      <td>4416</td>\n",
       "      <td>14.3</td>\n",
       "      <td>85.7</td>\n",
       "    </tr>\n",
       "    <tr>\n",
       "      <th>Not Active</th>\n",
       "      <td>1303</td>\n",
       "      <td>3546</td>\n",
       "      <td>26.9</td>\n",
       "      <td>73.1</td>\n",
       "    </tr>\n",
       "  </tbody>\n",
       "</table>\n",
       "</div>"
      ],
      "text/plain": [
       "Churned Status   Churned  Not Churned  % Churned  % Not Churned\n",
       "Activity Status                                                \n",
       "Active               735         4416       14.3           85.7\n",
       "Not Active          1303         3546       26.9           73.1"
      ]
     },
     "execution_count": 52,
     "metadata": {},
     "output_type": "execute_result"
    }
   ],
   "source": [
    "#display the act_churn\n",
    "act_churn"
   ]
  },
  {
   "cell_type": "code",
   "execution_count": 61,
   "id": "6d642a8f",
   "metadata": {},
   "outputs": [
    {
     "data": {
      "image/png": "[encoded data removed]",
      "text/plain": [
       "<Figure size 1400x500 with 2 Axes>"
      ]
     },
     "metadata": {},
     "output_type": "display_data"
    }
   ],
   "source": [
    "### Plot the Churn Rate by Gender and Account Activity\n",
    "fig, ax = plt.subplots(1, 2, figsize=[14, 5])\n",
    "\n",
    "ax[0].bar(gender_churn.index, gender_churn['% Not Churned'], label='Not Churned')\n",
    "ax[0].bar(gender_churn.index, gender_churn['% Churned'], bottom=gender_churn['% Not Churned'], label='Churned')\n",
    "\n",
    "ax[1].bar(act_churn.index, act_churn['% Not Churned'])\n",
    "\n",
    "ax[1].bar(act_churn.index,\n",
    "         act_churn['% Churned'],\n",
    "         bottom=act_churn['% Not Churned'])\n",
    "\n",
    "#add title, label\n",
    "ax[0].set_title('Churn rate by Gender')\n",
    "ax[1].set_title('Churn rate by Account Activity')\n",
    "ax[0].set_xlabel('Gender')\n",
    "ax[1].set_xlabel('Account Status')\n",
    "\n",
    "#add annotation\n",
    "for c in ax[0].containers:\n",
    "    labels = [str(v.get_height().round(1))+'%' if v.get_height()>0 else '' for v in c]\n",
    "    ax[0].bar_label(c,\n",
    "               labels=labels,\n",
    "               label_type='center',\n",
    "               size=11)\n",
    "for c in ax[1].containers:\n",
    "    labels = [str(v.get_height().round(1))+'%' if v.get_height()>0 else '' for v in c]\n",
    "    ax[1].bar_label(c,\n",
    "               labels=labels,\n",
    "               label_type='center',\n",
    "               size=11)\n",
    "\n",
    "#remove spines and axis\n",
    "sns.despine(left=True)\n",
    "ax[0].yaxis.set_visible(False)\n",
    "ax[1].yaxis.set_visible(False)\n",
    "\n",
    "fig.legend()\n",
    "plt.show()"
   ]
  },
  {
   "cell_type": "markdown",
   "id": "8a4c5f6e",
   "metadata": {},
   "source": [
    "## Churn Rate by Complain Status and Credit Card Users"
   ]
  },
  {
   "cell_type": "markdown",
   "id": "d1bf9926",
   "metadata": {},
   "source": [
    "#### Summarize the data by Complain Status"
   ]
  },
  {
   "cell_type": "code",
   "execution_count": 63,
   "id": "5b7c0041",
   "metadata": {},
   "outputs": [
    {
     "data": {
      "text/html": [
       "<div>\n",
       "<style scoped>\n",
       "    .dataframe tbody tr th:only-of-type {\n",
       "        vertical-align: middle;\n",
       "    }\n",
       "\n",
       "    .dataframe tbody tr th {\n",
       "        vertical-align: top;\n",
       "    }\n",
       "\n",
       "    .dataframe thead th {\n",
       "        text-align: right;\n",
       "    }\n",
       "</style>\n",
       "<table border=\"1\" class=\"dataframe\">\n",
       "  <thead>\n",
       "    <tr style=\"text-align: right;\">\n",
       "      <th>Churned Status</th>\n",
       "      <th>Churned</th>\n",
       "      <th>Not Churned</th>\n",
       "    </tr>\n",
       "    <tr>\n",
       "      <th>Complain</th>\n",
       "      <th></th>\n",
       "      <th></th>\n",
       "    </tr>\n",
       "  </thead>\n",
       "  <tbody>\n",
       "    <tr>\n",
       "      <th>Complained</th>\n",
       "      <td>2034</td>\n",
       "      <td>10</td>\n",
       "    </tr>\n",
       "    <tr>\n",
       "      <th>No Complain</th>\n",
       "      <td>4</td>\n",
       "      <td>7952</td>\n",
       "    </tr>\n",
       "  </tbody>\n",
       "</table>\n",
       "</div>"
      ],
      "text/plain": [
       "Churned Status  Churned  Not Churned\n",
       "Complain                            \n",
       "Complained         2034           10\n",
       "No Complain           4         7952"
      ]
     },
     "execution_count": 63,
     "metadata": {},
     "output_type": "execute_result"
    }
   ],
   "source": [
    "complain_churn = df1.pivot_table(index='Complain', columns='Churned Status', values='CustomerId', aggfunc='count')\n",
    "complain_churn"
   ]
  },
  {
   "cell_type": "code",
   "execution_count": 64,
   "id": "d79e1c3e",
   "metadata": {},
   "outputs": [
    {
     "data": {
      "text/html": [
       "<div>\n",
       "<style scoped>\n",
       "    .dataframe tbody tr th:only-of-type {\n",
       "        vertical-align: middle;\n",
       "    }\n",
       "\n",
       "    .dataframe tbody tr th {\n",
       "        vertical-align: top;\n",
       "    }\n",
       "\n",
       "    .dataframe thead th {\n",
       "        text-align: right;\n",
       "    }\n",
       "</style>\n",
       "<table border=\"1\" class=\"dataframe\">\n",
       "  <thead>\n",
       "    <tr style=\"text-align: right;\">\n",
       "      <th>Churned Status</th>\n",
       "      <th>Churned</th>\n",
       "      <th>Not Churned</th>\n",
       "      <th>% Churned</th>\n",
       "      <th>% Not Churned</th>\n",
       "    </tr>\n",
       "    <tr>\n",
       "      <th>Complain</th>\n",
       "      <th></th>\n",
       "      <th></th>\n",
       "      <th></th>\n",
       "      <th></th>\n",
       "    </tr>\n",
       "  </thead>\n",
       "  <tbody>\n",
       "    <tr>\n",
       "      <th>Complained</th>\n",
       "      <td>2034</td>\n",
       "      <td>10</td>\n",
       "      <td>99.5</td>\n",
       "      <td>0.5</td>\n",
       "    </tr>\n",
       "    <tr>\n",
       "      <th>No Complain</th>\n",
       "      <td>4</td>\n",
       "      <td>7952</td>\n",
       "      <td>0.1</td>\n",
       "      <td>99.9</td>\n",
       "    </tr>\n",
       "  </tbody>\n",
       "</table>\n",
       "</div>"
      ],
      "text/plain": [
       "Churned Status  Churned  Not Churned  % Churned  % Not Churned\n",
       "Complain                                                      \n",
       "Complained         2034           10       99.5            0.5\n",
       "No Complain           4         7952        0.1           99.9"
      ]
     },
     "execution_count": 64,
     "metadata": {},
     "output_type": "execute_result"
    }
   ],
   "source": [
    "#creating percentage churn and not churn columns\n",
    "complain_churn['% Churned'] = round((complain_churn['Churned']/(complain_churn['Churned']+complain_churn['Not Churned']))*100, 1)\n",
    "complain_churn['% Not Churned'] = round((complain_churn['Not Churned']/(complain_churn['Churned']+complain_churn['Not Churned']))*100, 1)\n",
    "complain_churn"
   ]
  },
  {
   "cell_type": "markdown",
   "id": "c09941c4",
   "metadata": {},
   "source": [
    "#### Summarize the data by Credit Card users"
   ]
  },
  {
   "cell_type": "code",
   "execution_count": 66,
   "id": "e6a25250",
   "metadata": {},
   "outputs": [
    {
     "data": {
      "text/html": [
       "<div>\n",
       "<style scoped>\n",
       "    .dataframe tbody tr th:only-of-type {\n",
       "        vertical-align: middle;\n",
       "    }\n",
       "\n",
       "    .dataframe tbody tr th {\n",
       "        vertical-align: top;\n",
       "    }\n",
       "\n",
       "    .dataframe thead th {\n",
       "        text-align: right;\n",
       "    }\n",
       "</style>\n",
       "<table border=\"1\" class=\"dataframe\">\n",
       "  <thead>\n",
       "    <tr style=\"text-align: right;\">\n",
       "      <th>Churned Status</th>\n",
       "      <th>Churned</th>\n",
       "      <th>Not Churned</th>\n",
       "    </tr>\n",
       "    <tr>\n",
       "      <th>HasCrCard</th>\n",
       "      <th></th>\n",
       "      <th></th>\n",
       "    </tr>\n",
       "  </thead>\n",
       "  <tbody>\n",
       "    <tr>\n",
       "      <th>Not Owned</th>\n",
       "      <td>613</td>\n",
       "      <td>2332</td>\n",
       "    </tr>\n",
       "    <tr>\n",
       "      <th>Owned</th>\n",
       "      <td>1425</td>\n",
       "      <td>5630</td>\n",
       "    </tr>\n",
       "  </tbody>\n",
       "</table>\n",
       "</div>"
      ],
      "text/plain": [
       "Churned Status  Churned  Not Churned\n",
       "HasCrCard                           \n",
       "Not Owned           613         2332\n",
       "Owned              1425         5630"
      ]
     },
     "execution_count": 66,
     "metadata": {},
     "output_type": "execute_result"
    }
   ],
   "source": [
    "# Summarize the data by Credit Card users\n",
    "\n",
    "card_churn = df1.pivot_table(index='HasCrCard', columns='Churned Status', values='CustomerId', aggfunc='count')\n",
    "card_churn"
   ]
  },
  {
   "cell_type": "code",
   "execution_count": 67,
   "id": "11856546",
   "metadata": {},
   "outputs": [
    {
     "data": {
      "text/html": [
       "<div>\n",
       "<style scoped>\n",
       "    .dataframe tbody tr th:only-of-type {\n",
       "        vertical-align: middle;\n",
       "    }\n",
       "\n",
       "    .dataframe tbody tr th {\n",
       "        vertical-align: top;\n",
       "    }\n",
       "\n",
       "    .dataframe thead th {\n",
       "        text-align: right;\n",
       "    }\n",
       "</style>\n",
       "<table border=\"1\" class=\"dataframe\">\n",
       "  <thead>\n",
       "    <tr style=\"text-align: right;\">\n",
       "      <th>Churned Status</th>\n",
       "      <th>Churned</th>\n",
       "      <th>Not Churned</th>\n",
       "      <th>% Churned</th>\n",
       "      <th>% Not Churned</th>\n",
       "    </tr>\n",
       "    <tr>\n",
       "      <th>HasCrCard</th>\n",
       "      <th></th>\n",
       "      <th></th>\n",
       "      <th></th>\n",
       "      <th></th>\n",
       "    </tr>\n",
       "  </thead>\n",
       "  <tbody>\n",
       "    <tr>\n",
       "      <th>Not Owned</th>\n",
       "      <td>613</td>\n",
       "      <td>2332</td>\n",
       "      <td>20.8</td>\n",
       "      <td>79.2</td>\n",
       "    </tr>\n",
       "    <tr>\n",
       "      <th>Owned</th>\n",
       "      <td>1425</td>\n",
       "      <td>5630</td>\n",
       "      <td>20.2</td>\n",
       "      <td>79.8</td>\n",
       "    </tr>\n",
       "  </tbody>\n",
       "</table>\n",
       "</div>"
      ],
      "text/plain": [
       "Churned Status  Churned  Not Churned  % Churned  % Not Churned\n",
       "HasCrCard                                                     \n",
       "Not Owned           613         2332       20.8           79.2\n",
       "Owned              1425         5630       20.2           79.8"
      ]
     },
     "execution_count": 67,
     "metadata": {},
     "output_type": "execute_result"
    }
   ],
   "source": [
    "#creating percentage churn and not churn columns\n",
    "card_churn['% Churned'] = round((card_churn['Churned']/(card_churn['Churned']+card_churn['Not Churned']))*100, 1)\n",
    "card_churn['% Not Churned'] = round((card_churn['Not Churned']/(card_churn['Churned']+card_churn['Not Churned']))*100, 1)\n",
    "card_churn"
   ]
  },
  {
   "cell_type": "markdown",
   "id": "89ffa144",
   "metadata": {},
   "source": [
    "#### Plotting a 100% Stacked Bar for the Churn rate by Complain and Credit Card Users"
   ]
  },
  {
   "cell_type": "code",
   "execution_count": 72,
   "id": "1567d733",
   "metadata": {},
   "outputs": [
    {
     "data": {
      "image/png": "[encoded data removed]",
      "text/plain": [
       "<Figure size 1400x500 with 2 Axes>"
      ]
     },
     "metadata": {},
     "output_type": "display_data"
    }
   ],
   "source": [
    "#plotting a 100% Stacked Bar for the Churn rate by Complain and credit card users\n",
    "\n",
    "fig, ax = plt.subplots(1, 2, figsize=[14, 5])\n",
    "\n",
    "ax[0].bar(complain_churn.index,\n",
    "         complain_churn['% Not Churned'],\n",
    "         label='% Not Churned')\n",
    "ax[0].bar(complain_churn.index,\n",
    "         complain_churn['% Churned'],\n",
    "         label='% Churned',\n",
    "         bottom=complain_churn['% Not Churned'])\n",
    "\n",
    "ax[1].bar(card_churn.index,\n",
    "         card_churn['% Not Churned'])\n",
    "ax[1].bar(card_churn.index,\n",
    "         card_churn['% Churned'],\n",
    "         bottom=card_churn['% Not Churned'])\n",
    "\n",
    "\n",
    "#add title, label\n",
    "ax[0].set_title('Churn rate by Complain')\n",
    "ax[1].set_title('Churn rate by Credit Card Owners')\n",
    "ax[0].set_xlabel('Complain')\n",
    "ax[1].set_xlabel('Credit Card')\n",
    "\n",
    "#remove spines and axis\n",
    "sns.despine(left=True)\n",
    "ax[0].yaxis.set_visible(False)\n",
    "ax[1].yaxis.set_visible(False)\n",
    "\n",
    "#add legend\n",
    "fig.legend()\n",
    "\n",
    "\n",
    "# add bar annotation\n",
    "for c in ax[0].containers:\n",
    "    labels = [str(v.get_height().round(1))+'%' if v.get_height()>0 else '' for v in c]\n",
    "    ax[0].bar_label(c,\n",
    "                   labels=labels,\n",
    "                   size=10,\n",
    "                   label_type='center')\n",
    "for c in ax[1].containers:\n",
    "    labels = [str(v.get_height().round(1))+'%' if v.get_height()>0 else '' for v in c]\n",
    "    ax[1].bar_label(c,\n",
    "                   labels=labels,\n",
    "                   size=11,\n",
    "                   label_type='center')\n",
    "\n",
    "plt.show()"
   ]
  },
  {
   "cell_type": "markdown",
   "id": "56896800",
   "metadata": {},
   "source": [
    "## Churn Rate by Country"
   ]
  },
  {
   "cell_type": "code",
   "execution_count": 73,
   "id": "285d9b50",
   "metadata": {},
   "outputs": [
    {
     "data": {
      "text/html": [
       "<div>\n",
       "<style scoped>\n",
       "    .dataframe tbody tr th:only-of-type {\n",
       "        vertical-align: middle;\n",
       "    }\n",
       "\n",
       "    .dataframe tbody tr th {\n",
       "        vertical-align: top;\n",
       "    }\n",
       "\n",
       "    .dataframe thead th {\n",
       "        text-align: right;\n",
       "    }\n",
       "</style>\n",
       "<table border=\"1\" class=\"dataframe\">\n",
       "  <thead>\n",
       "    <tr style=\"text-align: right;\">\n",
       "      <th>Churned Status</th>\n",
       "      <th>Churned</th>\n",
       "      <th>Not Churned</th>\n",
       "    </tr>\n",
       "    <tr>\n",
       "      <th>Country</th>\n",
       "      <th></th>\n",
       "      <th></th>\n",
       "    </tr>\n",
       "  </thead>\n",
       "  <tbody>\n",
       "    <tr>\n",
       "      <th>France</th>\n",
       "      <td>811</td>\n",
       "      <td>4203</td>\n",
       "    </tr>\n",
       "    <tr>\n",
       "      <th>Germany</th>\n",
       "      <td>814</td>\n",
       "      <td>1695</td>\n",
       "    </tr>\n",
       "    <tr>\n",
       "      <th>Spain</th>\n",
       "      <td>413</td>\n",
       "      <td>2064</td>\n",
       "    </tr>\n",
       "  </tbody>\n",
       "</table>\n",
       "</div>"
      ],
      "text/plain": [
       "Churned Status  Churned  Not Churned\n",
       "Country                             \n",
       "France              811         4203\n",
       "Germany             814         1695\n",
       "Spain               413         2064"
      ]
     },
     "execution_count": 73,
     "metadata": {},
     "output_type": "execute_result"
    }
   ],
   "source": [
    "#summarize the table by country and churn status\n",
    "churn_country = df1.pivot_table(index='Country', columns='Churned Status', values='CustomerId', aggfunc='count')\n",
    "churn_country"
   ]
  },
  {
   "cell_type": "code",
   "execution_count": 74,
   "id": "5b9001ea",
   "metadata": {},
   "outputs": [
    {
     "data": {
      "text/html": [
       "<div>\n",
       "<style scoped>\n",
       "    .dataframe tbody tr th:only-of-type {\n",
       "        vertical-align: middle;\n",
       "    }\n",
       "\n",
       "    .dataframe tbody tr th {\n",
       "        vertical-align: top;\n",
       "    }\n",
       "\n",
       "    .dataframe thead th {\n",
       "        text-align: right;\n",
       "    }\n",
       "</style>\n",
       "<table border=\"1\" class=\"dataframe\">\n",
       "  <thead>\n",
       "    <tr style=\"text-align: right;\">\n",
       "      <th>Churned Status</th>\n",
       "      <th>Churned</th>\n",
       "      <th>Not Churned</th>\n",
       "      <th>% Churned</th>\n",
       "      <th>% Not Churned</th>\n",
       "    </tr>\n",
       "    <tr>\n",
       "      <th>Country</th>\n",
       "      <th></th>\n",
       "      <th></th>\n",
       "      <th></th>\n",
       "      <th></th>\n",
       "    </tr>\n",
       "  </thead>\n",
       "  <tbody>\n",
       "    <tr>\n",
       "      <th>France</th>\n",
       "      <td>811</td>\n",
       "      <td>4203</td>\n",
       "      <td>16.2</td>\n",
       "      <td>83.8</td>\n",
       "    </tr>\n",
       "    <tr>\n",
       "      <th>Germany</th>\n",
       "      <td>814</td>\n",
       "      <td>1695</td>\n",
       "      <td>32.4</td>\n",
       "      <td>67.6</td>\n",
       "    </tr>\n",
       "    <tr>\n",
       "      <th>Spain</th>\n",
       "      <td>413</td>\n",
       "      <td>2064</td>\n",
       "      <td>16.7</td>\n",
       "      <td>83.3</td>\n",
       "    </tr>\n",
       "  </tbody>\n",
       "</table>\n",
       "</div>"
      ],
      "text/plain": [
       "Churned Status  Churned  Not Churned  % Churned  % Not Churned\n",
       "Country                                                       \n",
       "France              811         4203       16.2           83.8\n",
       "Germany             814         1695       32.4           67.6\n",
       "Spain               413         2064       16.7           83.3"
      ]
     },
     "execution_count": 74,
     "metadata": {},
     "output_type": "execute_result"
    }
   ],
   "source": [
    "#create percentage churned and not churned\n",
    "churn_country['% Churned'] = round((churn_country['Churned']/(churn_country['Churned']+churn_country['Not Churned']))*100, 1)\n",
    "churn_country['% Not Churned'] = round((churn_country['Not Churned']/(churn_country['Churned']+churn_country['Not Churned']))*100, 1)\n",
    "churn_country"
   ]
  },
  {
   "cell_type": "code",
   "execution_count": 75,
   "id": "ea9e8ab9",
   "metadata": {},
   "outputs": [
    {
     "data": {
      "image/png": "[encoded data removed]",
      "text/plain": [
       "<Figure size 640x480 with 1 Axes>"
      ]
     },
     "metadata": {},
     "output_type": "display_data"
    }
   ],
   "source": [
    "#plotting a 100% stacked bar chart of the percentage churn and not churn by country\n",
    "\n",
    "fig, ax = plt.subplots()\n",
    "\n",
    "ax.bar(churn_country.index, \n",
    "       churn_country['% Not Churned'],\n",
    "      label = 'Not Churned')\n",
    "\n",
    "ax.bar(churn_country.index,\n",
    "      churn_country['% Churned'],\n",
    "      label = 'Churned',\n",
    "      bottom = churn_country['% Not Churned'])\n",
    "\n",
    "for c in ax.containers:\n",
    "    labels = [str(v.get_height().round(1))+'%' if v.get_height()>0 else '' for v in c]\n",
    "    ax.bar_label(c, label_type='center', labels=labels, size=10)\n",
    "\n",
    "#add title, labels and legend\n",
    "ax.set_title('Churn rate by Country')\n",
    "ax.set_ylabel('Churn Rate')\n",
    "ax.set_xlabel('Country')\n",
    "fig.legend()\n",
    "\n",
    "#remove yticks, spines\n",
    "ax.yaxis.set_visible(False)\n",
    "sns.despine(left=True)\n",
    "plt.show()"
   ]
  },
  {
   "cell_type": "code",
   "execution_count": null,
   "id": "33553ccd",
   "metadata": {},
   "outputs": [],
   "source": []
  },
  {
   "cell_type": "markdown",
   "id": "10029b95",
   "metadata": {},
   "source": [
    "## Churn Rate by Age Group"
   ]
  },
  {
   "cell_type": "code",
   "execution_count": 76,
   "id": "51ef7708",
   "metadata": {},
   "outputs": [
    {
     "data": {
      "text/html": [
       "<div>\n",
       "<style scoped>\n",
       "    .dataframe tbody tr th:only-of-type {\n",
       "        vertical-align: middle;\n",
       "    }\n",
       "\n",
       "    .dataframe tbody tr th {\n",
       "        vertical-align: top;\n",
       "    }\n",
       "\n",
       "    .dataframe thead th {\n",
       "        text-align: right;\n",
       "    }\n",
       "</style>\n",
       "<table border=\"1\" class=\"dataframe\">\n",
       "  <thead>\n",
       "    <tr style=\"text-align: right;\">\n",
       "      <th></th>\n",
       "      <th>Age Group</th>\n",
       "      <th>total</th>\n",
       "    </tr>\n",
       "  </thead>\n",
       "  <tbody>\n",
       "    <tr>\n",
       "      <th>0</th>\n",
       "      <td>21 - 30</td>\n",
       "      <td>1879</td>\n",
       "    </tr>\n",
       "    <tr>\n",
       "      <th>1</th>\n",
       "      <td>31 - 40</td>\n",
       "      <td>4451</td>\n",
       "    </tr>\n",
       "    <tr>\n",
       "      <th>2</th>\n",
       "      <td>41 - 50</td>\n",
       "      <td>2320</td>\n",
       "    </tr>\n",
       "    <tr>\n",
       "      <th>3</th>\n",
       "      <td>51 - 60</td>\n",
       "      <td>797</td>\n",
       "    </tr>\n",
       "    <tr>\n",
       "      <th>4</th>\n",
       "      <td>61 - 70</td>\n",
       "      <td>331</td>\n",
       "    </tr>\n",
       "    <tr>\n",
       "      <th>5</th>\n",
       "      <td>&lt;= 20</td>\n",
       "      <td>89</td>\n",
       "    </tr>\n",
       "    <tr>\n",
       "      <th>6</th>\n",
       "      <td>&gt; 70</td>\n",
       "      <td>133</td>\n",
       "    </tr>\n",
       "  </tbody>\n",
       "</table>\n",
       "</div>"
      ],
      "text/plain": [
       "  Age Group  total\n",
       "0   21 - 30   1879\n",
       "1   31 - 40   4451\n",
       "2   41 - 50   2320\n",
       "3   51 - 60    797\n",
       "4   61 - 70    331\n",
       "5     <= 20     89\n",
       "6      > 70    133"
      ]
     },
     "execution_count": 76,
     "metadata": {},
     "output_type": "execute_result"
    }
   ],
   "source": [
    "#group the dataframe by Age group and count the total. This gives the total customers by Age Group\n",
    "ag1 = df1.groupby(['Age Group'], as_index=False).agg(total=('CustomerId', 'count'))\n",
    "ag1"
   ]
  },
  {
   "cell_type": "code",
   "execution_count": 77,
   "id": "b55f868b",
   "metadata": {},
   "outputs": [
    {
     "data": {
      "text/html": [
       "<div>\n",
       "<style scoped>\n",
       "    .dataframe tbody tr th:only-of-type {\n",
       "        vertical-align: middle;\n",
       "    }\n",
       "\n",
       "    .dataframe tbody tr th {\n",
       "        vertical-align: top;\n",
       "    }\n",
       "\n",
       "    .dataframe thead th {\n",
       "        text-align: right;\n",
       "    }\n",
       "</style>\n",
       "<table border=\"1\" class=\"dataframe\">\n",
       "  <thead>\n",
       "    <tr style=\"text-align: right;\">\n",
       "      <th></th>\n",
       "      <th>Age Group</th>\n",
       "      <th>total_churn</th>\n",
       "    </tr>\n",
       "  </thead>\n",
       "  <tbody>\n",
       "    <tr>\n",
       "      <th>0</th>\n",
       "      <td>21 - 30</td>\n",
       "      <td>143</td>\n",
       "    </tr>\n",
       "    <tr>\n",
       "      <th>1</th>\n",
       "      <td>31 - 40</td>\n",
       "      <td>539</td>\n",
       "    </tr>\n",
       "    <tr>\n",
       "      <th>2</th>\n",
       "      <td>41 - 50</td>\n",
       "      <td>788</td>\n",
       "    </tr>\n",
       "    <tr>\n",
       "      <th>3</th>\n",
       "      <td>51 - 60</td>\n",
       "      <td>448</td>\n",
       "    </tr>\n",
       "    <tr>\n",
       "      <th>4</th>\n",
       "      <td>61 - 70</td>\n",
       "      <td>104</td>\n",
       "    </tr>\n",
       "    <tr>\n",
       "      <th>5</th>\n",
       "      <td>&lt;= 20</td>\n",
       "      <td>5</td>\n",
       "    </tr>\n",
       "    <tr>\n",
       "      <th>6</th>\n",
       "      <td>&gt; 70</td>\n",
       "      <td>11</td>\n",
       "    </tr>\n",
       "  </tbody>\n",
       "</table>\n",
       "</div>"
      ],
      "text/plain": [
       "  Age Group  total_churn\n",
       "0   21 - 30          143\n",
       "1   31 - 40          539\n",
       "2   41 - 50          788\n",
       "3   51 - 60          448\n",
       "4   61 - 70          104\n",
       "5     <= 20            5\n",
       "6      > 70           11"
      ]
     },
     "execution_count": 77,
     "metadata": {},
     "output_type": "execute_result"
    }
   ],
   "source": [
    "#group the churned dataframe by Age group and count the total. This gives the total churn by age group\n",
    "ag2 = churned_df.groupby('Age Group', as_index=False).agg(total_churn=('CustomerId', 'count'))\n",
    "ag2"
   ]
  },
  {
   "cell_type": "code",
   "execution_count": 78,
   "id": "47927187",
   "metadata": {},
   "outputs": [
    {
     "data": {
      "text/html": [
       "<div>\n",
       "<style scoped>\n",
       "    .dataframe tbody tr th:only-of-type {\n",
       "        vertical-align: middle;\n",
       "    }\n",
       "\n",
       "    .dataframe tbody tr th {\n",
       "        vertical-align: top;\n",
       "    }\n",
       "\n",
       "    .dataframe thead th {\n",
       "        text-align: right;\n",
       "    }\n",
       "</style>\n",
       "<table border=\"1\" class=\"dataframe\">\n",
       "  <thead>\n",
       "    <tr style=\"text-align: right;\">\n",
       "      <th></th>\n",
       "      <th>Age Group</th>\n",
       "      <th>total</th>\n",
       "      <th>total_churn</th>\n",
       "    </tr>\n",
       "  </thead>\n",
       "  <tbody>\n",
       "    <tr>\n",
       "      <th>0</th>\n",
       "      <td>21 - 30</td>\n",
       "      <td>1879</td>\n",
       "      <td>143</td>\n",
       "    </tr>\n",
       "    <tr>\n",
       "      <th>1</th>\n",
       "      <td>31 - 40</td>\n",
       "      <td>4451</td>\n",
       "      <td>539</td>\n",
       "    </tr>\n",
       "    <tr>\n",
       "      <th>2</th>\n",
       "      <td>41 - 50</td>\n",
       "      <td>2320</td>\n",
       "      <td>788</td>\n",
       "    </tr>\n",
       "    <tr>\n",
       "      <th>3</th>\n",
       "      <td>51 - 60</td>\n",
       "      <td>797</td>\n",
       "      <td>448</td>\n",
       "    </tr>\n",
       "    <tr>\n",
       "      <th>4</th>\n",
       "      <td>61 - 70</td>\n",
       "      <td>331</td>\n",
       "      <td>104</td>\n",
       "    </tr>\n",
       "    <tr>\n",
       "      <th>5</th>\n",
       "      <td>&lt;= 20</td>\n",
       "      <td>89</td>\n",
       "      <td>5</td>\n",
       "    </tr>\n",
       "    <tr>\n",
       "      <th>6</th>\n",
       "      <td>&gt; 70</td>\n",
       "      <td>133</td>\n",
       "      <td>11</td>\n",
       "    </tr>\n",
       "  </tbody>\n",
       "</table>\n",
       "</div>"
      ],
      "text/plain": [
       "  Age Group  total  total_churn\n",
       "0   21 - 30   1879          143\n",
       "1   31 - 40   4451          539\n",
       "2   41 - 50   2320          788\n",
       "3   51 - 60    797          448\n",
       "4   61 - 70    331          104\n",
       "5     <= 20     89            5\n",
       "6      > 70    133           11"
      ]
     },
     "execution_count": 78,
     "metadata": {},
     "output_type": "execute_result"
    }
   ],
   "source": [
    "#merged the two dataframe based on the age group. This create a dataframe of age group with total customers and total churn\n",
    "age_grp_merged = ag1.merge(ag2, how='inner', on='Age Group')\n",
    "age_grp_merged"
   ]
  },
  {
   "cell_type": "code",
   "execution_count": 79,
   "id": "4f6ae458",
   "metadata": {},
   "outputs": [
    {
     "data": {
      "text/html": [
       "<div>\n",
       "<style scoped>\n",
       "    .dataframe tbody tr th:only-of-type {\n",
       "        vertical-align: middle;\n",
       "    }\n",
       "\n",
       "    .dataframe tbody tr th {\n",
       "        vertical-align: top;\n",
       "    }\n",
       "\n",
       "    .dataframe thead th {\n",
       "        text-align: right;\n",
       "    }\n",
       "</style>\n",
       "<table border=\"1\" class=\"dataframe\">\n",
       "  <thead>\n",
       "    <tr style=\"text-align: right;\">\n",
       "      <th></th>\n",
       "      <th>Age Group</th>\n",
       "      <th>total</th>\n",
       "      <th>total_churn</th>\n",
       "      <th>churn_rate</th>\n",
       "    </tr>\n",
       "  </thead>\n",
       "  <tbody>\n",
       "    <tr>\n",
       "      <th>0</th>\n",
       "      <td>21 - 30</td>\n",
       "      <td>1879</td>\n",
       "      <td>143</td>\n",
       "      <td>7.6</td>\n",
       "    </tr>\n",
       "    <tr>\n",
       "      <th>1</th>\n",
       "      <td>31 - 40</td>\n",
       "      <td>4451</td>\n",
       "      <td>539</td>\n",
       "      <td>12.1</td>\n",
       "    </tr>\n",
       "    <tr>\n",
       "      <th>2</th>\n",
       "      <td>41 - 50</td>\n",
       "      <td>2320</td>\n",
       "      <td>788</td>\n",
       "      <td>34.0</td>\n",
       "    </tr>\n",
       "    <tr>\n",
       "      <th>3</th>\n",
       "      <td>51 - 60</td>\n",
       "      <td>797</td>\n",
       "      <td>448</td>\n",
       "      <td>56.2</td>\n",
       "    </tr>\n",
       "    <tr>\n",
       "      <th>4</th>\n",
       "      <td>61 - 70</td>\n",
       "      <td>331</td>\n",
       "      <td>104</td>\n",
       "      <td>31.4</td>\n",
       "    </tr>\n",
       "    <tr>\n",
       "      <th>5</th>\n",
       "      <td>&lt;= 20</td>\n",
       "      <td>89</td>\n",
       "      <td>5</td>\n",
       "      <td>5.6</td>\n",
       "    </tr>\n",
       "    <tr>\n",
       "      <th>6</th>\n",
       "      <td>&gt; 70</td>\n",
       "      <td>133</td>\n",
       "      <td>11</td>\n",
       "      <td>8.3</td>\n",
       "    </tr>\n",
       "  </tbody>\n",
       "</table>\n",
       "</div>"
      ],
      "text/plain": [
       "  Age Group  total  total_churn  churn_rate\n",
       "0   21 - 30   1879          143         7.6\n",
       "1   31 - 40   4451          539        12.1\n",
       "2   41 - 50   2320          788        34.0\n",
       "3   51 - 60    797          448        56.2\n",
       "4   61 - 70    331          104        31.4\n",
       "5     <= 20     89            5         5.6\n",
       "6      > 70    133           11         8.3"
      ]
     },
     "execution_count": 79,
     "metadata": {},
     "output_type": "execute_result"
    }
   ],
   "source": [
    "#calculate the churn rate and create the column in the dataframe\n",
    "age_grp_merged['churn_rate'] = round((age_grp_merged['total_churn']/age_grp_merged['total'])*100, 1)\n",
    "age_grp_merged"
   ]
  },
  {
   "cell_type": "code",
   "execution_count": 80,
   "id": "7085a4f2",
   "metadata": {},
   "outputs": [],
   "source": [
    "#create an index column for sorting the dataframe based on Age Group\n",
    "age_grp_merged['index'] = age_grp_merged['Age Group']\n",
    "\n",
    "#create a map dictionary\n",
    "dict7 = {\n",
    "    '<= 20': 1,\n",
    "    '21 - 30': 2,\n",
    "    '31 - 40': 3,\n",
    "    '41 - 50': 4,\n",
    "    '51 - 60': 5,\n",
    "    '61 - 70': 6,\n",
    "    '> 70': 7\n",
    "}\n",
    "\n",
    "#map the index to the dict7\n",
    "age_grp_merged['index'] = age_grp_merged['index'].map(dict7)"
   ]
  },
  {
   "cell_type": "code",
   "execution_count": 81,
   "id": "30df11d5",
   "metadata": {},
   "outputs": [
    {
     "data": {
      "text/html": [
       "<div>\n",
       "<style scoped>\n",
       "    .dataframe tbody tr th:only-of-type {\n",
       "        vertical-align: middle;\n",
       "    }\n",
       "\n",
       "    .dataframe tbody tr th {\n",
       "        vertical-align: top;\n",
       "    }\n",
       "\n",
       "    .dataframe thead th {\n",
       "        text-align: right;\n",
       "    }\n",
       "</style>\n",
       "<table border=\"1\" class=\"dataframe\">\n",
       "  <thead>\n",
       "    <tr style=\"text-align: right;\">\n",
       "      <th></th>\n",
       "      <th>Age Group</th>\n",
       "      <th>total</th>\n",
       "      <th>total_churn</th>\n",
       "      <th>churn_rate</th>\n",
       "      <th>index</th>\n",
       "    </tr>\n",
       "  </thead>\n",
       "  <tbody>\n",
       "    <tr>\n",
       "      <th>5</th>\n",
       "      <td>&lt;= 20</td>\n",
       "      <td>89</td>\n",
       "      <td>5</td>\n",
       "      <td>5.6</td>\n",
       "      <td>1</td>\n",
       "    </tr>\n",
       "    <tr>\n",
       "      <th>0</th>\n",
       "      <td>21 - 30</td>\n",
       "      <td>1879</td>\n",
       "      <td>143</td>\n",
       "      <td>7.6</td>\n",
       "      <td>2</td>\n",
       "    </tr>\n",
       "    <tr>\n",
       "      <th>1</th>\n",
       "      <td>31 - 40</td>\n",
       "      <td>4451</td>\n",
       "      <td>539</td>\n",
       "      <td>12.1</td>\n",
       "      <td>3</td>\n",
       "    </tr>\n",
       "    <tr>\n",
       "      <th>2</th>\n",
       "      <td>41 - 50</td>\n",
       "      <td>2320</td>\n",
       "      <td>788</td>\n",
       "      <td>34.0</td>\n",
       "      <td>4</td>\n",
       "    </tr>\n",
       "    <tr>\n",
       "      <th>3</th>\n",
       "      <td>51 - 60</td>\n",
       "      <td>797</td>\n",
       "      <td>448</td>\n",
       "      <td>56.2</td>\n",
       "      <td>5</td>\n",
       "    </tr>\n",
       "    <tr>\n",
       "      <th>4</th>\n",
       "      <td>61 - 70</td>\n",
       "      <td>331</td>\n",
       "      <td>104</td>\n",
       "      <td>31.4</td>\n",
       "      <td>6</td>\n",
       "    </tr>\n",
       "    <tr>\n",
       "      <th>6</th>\n",
       "      <td>&gt; 70</td>\n",
       "      <td>133</td>\n",
       "      <td>11</td>\n",
       "      <td>8.3</td>\n",
       "      <td>7</td>\n",
       "    </tr>\n",
       "  </tbody>\n",
       "</table>\n",
       "</div>"
      ],
      "text/plain": [
       "  Age Group  total  total_churn  churn_rate  index\n",
       "5     <= 20     89            5         5.6      1\n",
       "0   21 - 30   1879          143         7.6      2\n",
       "1   31 - 40   4451          539        12.1      3\n",
       "2   41 - 50   2320          788        34.0      4\n",
       "3   51 - 60    797          448        56.2      5\n",
       "4   61 - 70    331          104        31.4      6\n",
       "6      > 70    133           11         8.3      7"
      ]
     },
     "execution_count": 81,
     "metadata": {},
     "output_type": "execute_result"
    }
   ],
   "source": [
    "#sort the dataframe using the index column\n",
    "age_grp_merged = age_grp_merged.sort_values('index', ascending=True)\n",
    "age_grp_merged"
   ]
  },
  {
   "cell_type": "code",
   "execution_count": 82,
   "id": "c7b247d6",
   "metadata": {},
   "outputs": [
    {
     "data": {
      "text/html": [
       "<div>\n",
       "<style scoped>\n",
       "    .dataframe tbody tr th:only-of-type {\n",
       "        vertical-align: middle;\n",
       "    }\n",
       "\n",
       "    .dataframe tbody tr th {\n",
       "        vertical-align: top;\n",
       "    }\n",
       "\n",
       "    .dataframe thead th {\n",
       "        text-align: right;\n",
       "    }\n",
       "</style>\n",
       "<table border=\"1\" class=\"dataframe\">\n",
       "  <thead>\n",
       "    <tr style=\"text-align: right;\">\n",
       "      <th></th>\n",
       "      <th>index</th>\n",
       "      <th>Age Group</th>\n",
       "      <th>total</th>\n",
       "      <th>total_churn</th>\n",
       "      <th>churn_rate</th>\n",
       "    </tr>\n",
       "  </thead>\n",
       "  <tbody>\n",
       "    <tr>\n",
       "      <th>5</th>\n",
       "      <td>1</td>\n",
       "      <td>&lt;= 20</td>\n",
       "      <td>89</td>\n",
       "      <td>5</td>\n",
       "      <td>5.6</td>\n",
       "    </tr>\n",
       "    <tr>\n",
       "      <th>0</th>\n",
       "      <td>2</td>\n",
       "      <td>21 - 30</td>\n",
       "      <td>1879</td>\n",
       "      <td>143</td>\n",
       "      <td>7.6</td>\n",
       "    </tr>\n",
       "    <tr>\n",
       "      <th>1</th>\n",
       "      <td>3</td>\n",
       "      <td>31 - 40</td>\n",
       "      <td>4451</td>\n",
       "      <td>539</td>\n",
       "      <td>12.1</td>\n",
       "    </tr>\n",
       "    <tr>\n",
       "      <th>2</th>\n",
       "      <td>4</td>\n",
       "      <td>41 - 50</td>\n",
       "      <td>2320</td>\n",
       "      <td>788</td>\n",
       "      <td>34.0</td>\n",
       "    </tr>\n",
       "    <tr>\n",
       "      <th>3</th>\n",
       "      <td>5</td>\n",
       "      <td>51 - 60</td>\n",
       "      <td>797</td>\n",
       "      <td>448</td>\n",
       "      <td>56.2</td>\n",
       "    </tr>\n",
       "    <tr>\n",
       "      <th>4</th>\n",
       "      <td>6</td>\n",
       "      <td>61 - 70</td>\n",
       "      <td>331</td>\n",
       "      <td>104</td>\n",
       "      <td>31.4</td>\n",
       "    </tr>\n",
       "    <tr>\n",
       "      <th>6</th>\n",
       "      <td>7</td>\n",
       "      <td>&gt; 70</td>\n",
       "      <td>133</td>\n",
       "      <td>11</td>\n",
       "      <td>8.3</td>\n",
       "    </tr>\n",
       "  </tbody>\n",
       "</table>\n",
       "</div>"
      ],
      "text/plain": [
       "   index Age Group  total  total_churn  churn_rate\n",
       "5      1     <= 20     89            5         5.6\n",
       "0      2   21 - 30   1879          143         7.6\n",
       "1      3   31 - 40   4451          539        12.1\n",
       "2      4   41 - 50   2320          788        34.0\n",
       "3      5   51 - 60    797          448        56.2\n",
       "4      6   61 - 70    331          104        31.4\n",
       "6      7      > 70    133           11         8.3"
      ]
     },
     "execution_count": 82,
     "metadata": {},
     "output_type": "execute_result"
    }
   ],
   "source": [
    "#reorder the columns\n",
    "age_grp_merged = age_grp_merged.reindex(labels=['index', 'Age Group', 'total','total_churn', 'churn_rate'], axis=1)\n",
    "age_grp_merged"
   ]
  },
  {
   "cell_type": "code",
   "execution_count": 83,
   "id": "d1b66c58",
   "metadata": {},
   "outputs": [
    {
     "data": {
      "image/png": "[encoded data removed]",
      "text/plain": [
       "<Figure size 640x480 with 2 Axes>"
      ]
     },
     "metadata": {},
     "output_type": "display_data"
    }
   ],
   "source": [
    "#Creating a dual plot of total customer and churn rate by Age group\n",
    "\n",
    "fig, ax = plt.subplots()\n",
    "color1 = 'blue'\n",
    "ax.bar(x=age_grp_merged['Age Group'], height=age_grp_merged['total'], alpha=0.4, color=color1)\n",
    "\n",
    "#add ylabel, x_label and title\n",
    "ax.set_ylabel('Total Customers', color=color1, alpha=0.8) #add y_label\n",
    "ax.set_xlabel('Age Group') #add x_label\n",
    "ax.set_title('Total Customers and Churn Rate by Age Group') #add title\n",
    "ax.tick_params(axis='y', labelcolor=color1)\n",
    "\n",
    "\n",
    "\n",
    "ax1 = ax.twinx()\n",
    "\n",
    "color2 = 'crimson'\n",
    "ax1.plot(age_grp_merged['Age Group'], age_grp_merged['churn_rate'], color=color2)\n",
    "\n",
    "#add ylabel\n",
    "ax1.set_ylabel('Churn Rate (%)', color=color2)\n",
    "ax1.tick_params(axis='y', labelcolor=color2)\n",
    "\n",
    "for index, value in enumerate(age_grp_merged['churn_rate']):\n",
    "    ax1.text(index, value, str(value)+'%')\n",
    "\n",
    "plt.show()"
   ]
  },
  {
   "cell_type": "markdown",
   "id": "62d63e59",
   "metadata": {},
   "source": [
    "## Churn Rate by Acct Balance"
   ]
  },
  {
   "cell_type": "code",
   "execution_count": 84,
   "id": "7a7e22bd",
   "metadata": {},
   "outputs": [
    {
     "data": {
      "text/html": [
       "<div>\n",
       "<style scoped>\n",
       "    .dataframe tbody tr th:only-of-type {\n",
       "        vertical-align: middle;\n",
       "    }\n",
       "\n",
       "    .dataframe tbody tr th {\n",
       "        vertical-align: top;\n",
       "    }\n",
       "\n",
       "    .dataframe thead th {\n",
       "        text-align: right;\n",
       "    }\n",
       "</style>\n",
       "<table border=\"1\" class=\"dataframe\">\n",
       "  <thead>\n",
       "    <tr style=\"text-align: right;\">\n",
       "      <th></th>\n",
       "      <th>Acct Balance</th>\n",
       "      <th>total</th>\n",
       "    </tr>\n",
       "  </thead>\n",
       "  <tbody>\n",
       "    <tr>\n",
       "      <th>0</th>\n",
       "      <td>100K - 200K</td>\n",
       "      <td>4765</td>\n",
       "    </tr>\n",
       "    <tr>\n",
       "      <th>1</th>\n",
       "      <td>10K - 100K</td>\n",
       "      <td>1583</td>\n",
       "    </tr>\n",
       "    <tr>\n",
       "      <th>2</th>\n",
       "      <td>&lt;= 10K</td>\n",
       "      <td>3618</td>\n",
       "    </tr>\n",
       "    <tr>\n",
       "      <th>3</th>\n",
       "      <td>&gt; 200K</td>\n",
       "      <td>34</td>\n",
       "    </tr>\n",
       "  </tbody>\n",
       "</table>\n",
       "</div>"
      ],
      "text/plain": [
       "  Acct Balance  total\n",
       "0  100K - 200K   4765\n",
       "1   10K - 100K   1583\n",
       "2       <= 10K   3618\n",
       "3       > 200K     34"
      ]
     },
     "execution_count": 84,
     "metadata": {},
     "output_type": "execute_result"
    }
   ],
   "source": [
    "#group by acct balance and get the total customers\n",
    "act_bal_grp = df1.groupby(['Acct Balance'], as_index=False).agg(total=('CustomerId', 'count'))\n",
    "act_bal_grp"
   ]
  },
  {
   "cell_type": "code",
   "execution_count": 85,
   "id": "3928f08b",
   "metadata": {},
   "outputs": [
    {
     "data": {
      "text/html": [
       "<div>\n",
       "<style scoped>\n",
       "    .dataframe tbody tr th:only-of-type {\n",
       "        vertical-align: middle;\n",
       "    }\n",
       "\n",
       "    .dataframe tbody tr th {\n",
       "        vertical-align: top;\n",
       "    }\n",
       "\n",
       "    .dataframe thead th {\n",
       "        text-align: right;\n",
       "    }\n",
       "</style>\n",
       "<table border=\"1\" class=\"dataframe\">\n",
       "  <thead>\n",
       "    <tr style=\"text-align: right;\">\n",
       "      <th></th>\n",
       "      <th>Acct Balance</th>\n",
       "      <th>total_churn</th>\n",
       "    </tr>\n",
       "  </thead>\n",
       "  <tbody>\n",
       "    <tr>\n",
       "      <th>0</th>\n",
       "      <td>100K - 200K</td>\n",
       "      <td>1192</td>\n",
       "    </tr>\n",
       "    <tr>\n",
       "      <th>1</th>\n",
       "      <td>10K - 100K</td>\n",
       "      <td>326</td>\n",
       "    </tr>\n",
       "    <tr>\n",
       "      <th>2</th>\n",
       "      <td>&lt;= 10K</td>\n",
       "      <td>501</td>\n",
       "    </tr>\n",
       "    <tr>\n",
       "      <th>3</th>\n",
       "      <td>&gt; 200K</td>\n",
       "      <td>19</td>\n",
       "    </tr>\n",
       "  </tbody>\n",
       "</table>\n",
       "</div>"
      ],
      "text/plain": [
       "  Acct Balance  total_churn\n",
       "0  100K - 200K         1192\n",
       "1   10K - 100K          326\n",
       "2       <= 10K          501\n",
       "3       > 200K           19"
      ]
     },
     "execution_count": 85,
     "metadata": {},
     "output_type": "execute_result"
    }
   ],
   "source": [
    "#group the churned data by acct balance and get the total churned\n",
    "churn_acct = churned_df.groupby(['Acct Balance'], as_index=False).agg(total_churn=('CustomerId', 'count'))\n",
    "churn_acct"
   ]
  },
  {
   "cell_type": "code",
   "execution_count": 86,
   "id": "f31272cc",
   "metadata": {},
   "outputs": [
    {
     "data": {
      "text/html": [
       "<div>\n",
       "<style scoped>\n",
       "    .dataframe tbody tr th:only-of-type {\n",
       "        vertical-align: middle;\n",
       "    }\n",
       "\n",
       "    .dataframe tbody tr th {\n",
       "        vertical-align: top;\n",
       "    }\n",
       "\n",
       "    .dataframe thead th {\n",
       "        text-align: right;\n",
       "    }\n",
       "</style>\n",
       "<table border=\"1\" class=\"dataframe\">\n",
       "  <thead>\n",
       "    <tr style=\"text-align: right;\">\n",
       "      <th></th>\n",
       "      <th>Acct Balance</th>\n",
       "      <th>total</th>\n",
       "      <th>total_churn</th>\n",
       "    </tr>\n",
       "  </thead>\n",
       "  <tbody>\n",
       "    <tr>\n",
       "      <th>0</th>\n",
       "      <td>100K - 200K</td>\n",
       "      <td>4765</td>\n",
       "      <td>1192</td>\n",
       "    </tr>\n",
       "    <tr>\n",
       "      <th>1</th>\n",
       "      <td>10K - 100K</td>\n",
       "      <td>1583</td>\n",
       "      <td>326</td>\n",
       "    </tr>\n",
       "    <tr>\n",
       "      <th>2</th>\n",
       "      <td>&lt;= 10K</td>\n",
       "      <td>3618</td>\n",
       "      <td>501</td>\n",
       "    </tr>\n",
       "    <tr>\n",
       "      <th>3</th>\n",
       "      <td>&gt; 200K</td>\n",
       "      <td>34</td>\n",
       "      <td>19</td>\n",
       "    </tr>\n",
       "  </tbody>\n",
       "</table>\n",
       "</div>"
      ],
      "text/plain": [
       "  Acct Balance  total  total_churn\n",
       "0  100K - 200K   4765         1192\n",
       "1   10K - 100K   1583          326\n",
       "2       <= 10K   3618          501\n",
       "3       > 200K     34           19"
      ]
     },
     "execution_count": 86,
     "metadata": {},
     "output_type": "execute_result"
    }
   ],
   "source": [
    "#merged the two dataframe together\n",
    "acct_bal_merged = act_bal_grp.merge(churn_acct, on='Acct Balance', how='inner')\n",
    "acct_bal_merged"
   ]
  },
  {
   "cell_type": "code",
   "execution_count": 87,
   "id": "41c2eefb",
   "metadata": {},
   "outputs": [],
   "source": [
    "#add an index column for sorting the dataframe\n",
    "acct_bal_merged['index'] = acct_bal_merged['Acct Balance']\n",
    "\n",
    "#create a dictionary\n",
    "dict8 = {\n",
    "    '<= 10K': 1,\n",
    "    '10K - 100K': 2,\n",
    "    '100K - 200K': 3,\n",
    "    '> 200K': 4\n",
    "}\n",
    "\n",
    "#map the dict to the index\n",
    "acct_bal_merged['index'] = acct_bal_merged['index'].map(dict8)"
   ]
  },
  {
   "cell_type": "code",
   "execution_count": 88,
   "id": "620f456e",
   "metadata": {},
   "outputs": [
    {
     "data": {
      "text/html": [
       "<div>\n",
       "<style scoped>\n",
       "    .dataframe tbody tr th:only-of-type {\n",
       "        vertical-align: middle;\n",
       "    }\n",
       "\n",
       "    .dataframe tbody tr th {\n",
       "        vertical-align: top;\n",
       "    }\n",
       "\n",
       "    .dataframe thead th {\n",
       "        text-align: right;\n",
       "    }\n",
       "</style>\n",
       "<table border=\"1\" class=\"dataframe\">\n",
       "  <thead>\n",
       "    <tr style=\"text-align: right;\">\n",
       "      <th></th>\n",
       "      <th>Acct Balance</th>\n",
       "      <th>total</th>\n",
       "      <th>total_churn</th>\n",
       "      <th>index</th>\n",
       "    </tr>\n",
       "  </thead>\n",
       "  <tbody>\n",
       "    <tr>\n",
       "      <th>0</th>\n",
       "      <td>100K - 200K</td>\n",
       "      <td>4765</td>\n",
       "      <td>1192</td>\n",
       "      <td>3</td>\n",
       "    </tr>\n",
       "    <tr>\n",
       "      <th>1</th>\n",
       "      <td>10K - 100K</td>\n",
       "      <td>1583</td>\n",
       "      <td>326</td>\n",
       "      <td>2</td>\n",
       "    </tr>\n",
       "    <tr>\n",
       "      <th>2</th>\n",
       "      <td>&lt;= 10K</td>\n",
       "      <td>3618</td>\n",
       "      <td>501</td>\n",
       "      <td>1</td>\n",
       "    </tr>\n",
       "    <tr>\n",
       "      <th>3</th>\n",
       "      <td>&gt; 200K</td>\n",
       "      <td>34</td>\n",
       "      <td>19</td>\n",
       "      <td>4</td>\n",
       "    </tr>\n",
       "  </tbody>\n",
       "</table>\n",
       "</div>"
      ],
      "text/plain": [
       "  Acct Balance  total  total_churn  index\n",
       "0  100K - 200K   4765         1192      3\n",
       "1   10K - 100K   1583          326      2\n",
       "2       <= 10K   3618          501      1\n",
       "3       > 200K     34           19      4"
      ]
     },
     "execution_count": 88,
     "metadata": {},
     "output_type": "execute_result"
    }
   ],
   "source": [
    "acct_bal_merged"
   ]
  },
  {
   "cell_type": "code",
   "execution_count": 89,
   "id": "9351ed59",
   "metadata": {},
   "outputs": [
    {
     "data": {
      "text/html": [
       "<div>\n",
       "<style scoped>\n",
       "    .dataframe tbody tr th:only-of-type {\n",
       "        vertical-align: middle;\n",
       "    }\n",
       "\n",
       "    .dataframe tbody tr th {\n",
       "        vertical-align: top;\n",
       "    }\n",
       "\n",
       "    .dataframe thead th {\n",
       "        text-align: right;\n",
       "    }\n",
       "</style>\n",
       "<table border=\"1\" class=\"dataframe\">\n",
       "  <thead>\n",
       "    <tr style=\"text-align: right;\">\n",
       "      <th></th>\n",
       "      <th>Acct Balance</th>\n",
       "      <th>total</th>\n",
       "      <th>total_churn</th>\n",
       "      <th>index</th>\n",
       "    </tr>\n",
       "  </thead>\n",
       "  <tbody>\n",
       "    <tr>\n",
       "      <th>2</th>\n",
       "      <td>&lt;= 10K</td>\n",
       "      <td>3618</td>\n",
       "      <td>501</td>\n",
       "      <td>1</td>\n",
       "    </tr>\n",
       "    <tr>\n",
       "      <th>1</th>\n",
       "      <td>10K - 100K</td>\n",
       "      <td>1583</td>\n",
       "      <td>326</td>\n",
       "      <td>2</td>\n",
       "    </tr>\n",
       "    <tr>\n",
       "      <th>0</th>\n",
       "      <td>100K - 200K</td>\n",
       "      <td>4765</td>\n",
       "      <td>1192</td>\n",
       "      <td>3</td>\n",
       "    </tr>\n",
       "    <tr>\n",
       "      <th>3</th>\n",
       "      <td>&gt; 200K</td>\n",
       "      <td>34</td>\n",
       "      <td>19</td>\n",
       "      <td>4</td>\n",
       "    </tr>\n",
       "  </tbody>\n",
       "</table>\n",
       "</div>"
      ],
      "text/plain": [
       "  Acct Balance  total  total_churn  index\n",
       "2       <= 10K   3618          501      1\n",
       "1   10K - 100K   1583          326      2\n",
       "0  100K - 200K   4765         1192      3\n",
       "3       > 200K     34           19      4"
      ]
     },
     "execution_count": 89,
     "metadata": {},
     "output_type": "execute_result"
    }
   ],
   "source": [
    "#sort the dataframe by indec\n",
    "acct_bal_merged = acct_bal_merged.sort_values('index', ascending=True)\n",
    "acct_bal_merged"
   ]
  },
  {
   "cell_type": "code",
   "execution_count": 90,
   "id": "03985cf6",
   "metadata": {},
   "outputs": [
    {
     "data": {
      "text/html": [
       "<div>\n",
       "<style scoped>\n",
       "    .dataframe tbody tr th:only-of-type {\n",
       "        vertical-align: middle;\n",
       "    }\n",
       "\n",
       "    .dataframe tbody tr th {\n",
       "        vertical-align: top;\n",
       "    }\n",
       "\n",
       "    .dataframe thead th {\n",
       "        text-align: right;\n",
       "    }\n",
       "</style>\n",
       "<table border=\"1\" class=\"dataframe\">\n",
       "  <thead>\n",
       "    <tr style=\"text-align: right;\">\n",
       "      <th></th>\n",
       "      <th>index</th>\n",
       "      <th>Acct Balance</th>\n",
       "      <th>total</th>\n",
       "      <th>total_churn</th>\n",
       "    </tr>\n",
       "  </thead>\n",
       "  <tbody>\n",
       "    <tr>\n",
       "      <th>2</th>\n",
       "      <td>1</td>\n",
       "      <td>&lt;= 10K</td>\n",
       "      <td>3618</td>\n",
       "      <td>501</td>\n",
       "    </tr>\n",
       "    <tr>\n",
       "      <th>1</th>\n",
       "      <td>2</td>\n",
       "      <td>10K - 100K</td>\n",
       "      <td>1583</td>\n",
       "      <td>326</td>\n",
       "    </tr>\n",
       "    <tr>\n",
       "      <th>0</th>\n",
       "      <td>3</td>\n",
       "      <td>100K - 200K</td>\n",
       "      <td>4765</td>\n",
       "      <td>1192</td>\n",
       "    </tr>\n",
       "    <tr>\n",
       "      <th>3</th>\n",
       "      <td>4</td>\n",
       "      <td>&gt; 200K</td>\n",
       "      <td>34</td>\n",
       "      <td>19</td>\n",
       "    </tr>\n",
       "  </tbody>\n",
       "</table>\n",
       "</div>"
      ],
      "text/plain": [
       "   index Acct Balance  total  total_churn\n",
       "2      1       <= 10K   3618          501\n",
       "1      2   10K - 100K   1583          326\n",
       "0      3  100K - 200K   4765         1192\n",
       "3      4       > 200K     34           19"
      ]
     },
     "execution_count": 90,
     "metadata": {},
     "output_type": "execute_result"
    }
   ],
   "source": [
    "#reorder the columns\n",
    "acct_bal_merged = acct_bal_merged.reindex(labels=['index', 'Acct Balance', 'total', 'total_churn'], axis=1)\n",
    "acct_bal_merged"
   ]
  },
  {
   "cell_type": "code",
   "execution_count": 91,
   "id": "5e9ed734",
   "metadata": {},
   "outputs": [
    {
     "data": {
      "text/html": [
       "<div>\n",
       "<style scoped>\n",
       "    .dataframe tbody tr th:only-of-type {\n",
       "        vertical-align: middle;\n",
       "    }\n",
       "\n",
       "    .dataframe tbody tr th {\n",
       "        vertical-align: top;\n",
       "    }\n",
       "\n",
       "    .dataframe thead th {\n",
       "        text-align: right;\n",
       "    }\n",
       "</style>\n",
       "<table border=\"1\" class=\"dataframe\">\n",
       "  <thead>\n",
       "    <tr style=\"text-align: right;\">\n",
       "      <th></th>\n",
       "      <th>index</th>\n",
       "      <th>Acct Balance</th>\n",
       "      <th>total</th>\n",
       "      <th>total_churn</th>\n",
       "      <th>churn_rate</th>\n",
       "    </tr>\n",
       "  </thead>\n",
       "  <tbody>\n",
       "    <tr>\n",
       "      <th>2</th>\n",
       "      <td>1</td>\n",
       "      <td>&lt;= 10K</td>\n",
       "      <td>3618</td>\n",
       "      <td>501</td>\n",
       "      <td>13.8</td>\n",
       "    </tr>\n",
       "    <tr>\n",
       "      <th>1</th>\n",
       "      <td>2</td>\n",
       "      <td>10K - 100K</td>\n",
       "      <td>1583</td>\n",
       "      <td>326</td>\n",
       "      <td>20.6</td>\n",
       "    </tr>\n",
       "    <tr>\n",
       "      <th>0</th>\n",
       "      <td>3</td>\n",
       "      <td>100K - 200K</td>\n",
       "      <td>4765</td>\n",
       "      <td>1192</td>\n",
       "      <td>25.0</td>\n",
       "    </tr>\n",
       "    <tr>\n",
       "      <th>3</th>\n",
       "      <td>4</td>\n",
       "      <td>&gt; 200K</td>\n",
       "      <td>34</td>\n",
       "      <td>19</td>\n",
       "      <td>55.9</td>\n",
       "    </tr>\n",
       "  </tbody>\n",
       "</table>\n",
       "</div>"
      ],
      "text/plain": [
       "   index Acct Balance  total  total_churn  churn_rate\n",
       "2      1       <= 10K   3618          501        13.8\n",
       "1      2   10K - 100K   1583          326        20.6\n",
       "0      3  100K - 200K   4765         1192        25.0\n",
       "3      4       > 200K     34           19        55.9"
      ]
     },
     "execution_count": 91,
     "metadata": {},
     "output_type": "execute_result"
    }
   ],
   "source": [
    "#create a churn rate column\n",
    "acct_bal_merged['churn_rate'] = round((acct_bal_merged['total_churn']/acct_bal_merged['total'])*100, 1)\n",
    "acct_bal_merged"
   ]
  },
  {
   "cell_type": "code",
   "execution_count": 92,
   "id": "5365f080",
   "metadata": {},
   "outputs": [
    {
     "data": {
      "image/png": "[encoded data removed]",
      "text/plain": [
       "<Figure size 640x480 with 2 Axes>"
      ]
     },
     "metadata": {},
     "output_type": "display_data"
    }
   ],
   "source": [
    "#Creating a dual plot of total customer and churn rate by Acct Balance\n",
    "\n",
    "fig, ax = plt.subplots()\n",
    "color1 = 'blue'\n",
    "ax.bar(x=acct_bal_merged['Acct Balance'], height=acct_bal_merged['total'], alpha=0.4, color=color1)\n",
    "\n",
    "#add ylabel, x_label and title\n",
    "ax.set_ylabel('Total Customers', color=color1, alpha=0.8) #add y_label\n",
    "ax.set_xlabel('Acct Balance') #add x_label\n",
    "ax.set_title('Total Customers and Churn Rate by Acct Balance') #add title\n",
    "ax.tick_params(axis='y', labelcolor=color1)\n",
    "\n",
    "\n",
    "\n",
    "ax1 = ax.twinx()\n",
    "\n",
    "color2 = 'crimson'\n",
    "ax1.plot(acct_bal_merged['Acct Balance'], acct_bal_merged['churn_rate'], color=color2, alpha=0.4)\n",
    "\n",
    "#add ylabel\n",
    "ax1.set_ylabel('Churn Rate (%)', color=color2)\n",
    "ax1.tick_params(axis='y', labelcolor=color2)\n",
    "\n",
    "for index, value in enumerate(acct_bal_merged['churn_rate']):\n",
    "    ax1.text(index, value, str(value)+'%')\n",
    "\n",
    "plt.show()"
   ]
  },
  {
   "cell_type": "code",
   "execution_count": 93,
   "id": "93345e59",
   "metadata": {},
   "outputs": [
    {
     "data": {
      "text/html": [
       "<div>\n",
       "<style scoped>\n",
       "    .dataframe tbody tr th:only-of-type {\n",
       "        vertical-align: middle;\n",
       "    }\n",
       "\n",
       "    .dataframe tbody tr th {\n",
       "        vertical-align: top;\n",
       "    }\n",
       "\n",
       "    .dataframe thead th {\n",
       "        text-align: right;\n",
       "    }\n",
       "</style>\n",
       "<table border=\"1\" class=\"dataframe\">\n",
       "  <thead>\n",
       "    <tr style=\"text-align: right;\">\n",
       "      <th></th>\n",
       "      <th>RowNumber</th>\n",
       "      <th>CustomerId</th>\n",
       "      <th>Surname</th>\n",
       "      <th>CreditScore</th>\n",
       "      <th>Country</th>\n",
       "      <th>Gender</th>\n",
       "      <th>Age</th>\n",
       "      <th>Tenure</th>\n",
       "      <th>Balance</th>\n",
       "      <th>NumOfProducts</th>\n",
       "      <th>HasCrCard</th>\n",
       "      <th>Activity Status</th>\n",
       "      <th>Churned Status</th>\n",
       "      <th>Complain</th>\n",
       "      <th>Satisfaction Score</th>\n",
       "      <th>Card Type</th>\n",
       "      <th>Point Earned</th>\n",
       "      <th>Age Group</th>\n",
       "      <th>Acct Balance</th>\n",
       "      <th>Point Earned Group</th>\n",
       "      <th>Credit Score Group</th>\n",
       "    </tr>\n",
       "  </thead>\n",
       "  <tbody>\n",
       "    <tr>\n",
       "      <th>0</th>\n",
       "      <td>1</td>\n",
       "      <td>15634602</td>\n",
       "      <td>Hargrave</td>\n",
       "      <td>619</td>\n",
       "      <td>France</td>\n",
       "      <td>Female</td>\n",
       "      <td>42</td>\n",
       "      <td>2</td>\n",
       "      <td>0.00</td>\n",
       "      <td>1</td>\n",
       "      <td>Owned</td>\n",
       "      <td>Active</td>\n",
       "      <td>Churned</td>\n",
       "      <td>Complained</td>\n",
       "      <td>Unsatisfied</td>\n",
       "      <td>DIAMOND</td>\n",
       "      <td>464</td>\n",
       "      <td>41 - 50</td>\n",
       "      <td>&lt;= 10K</td>\n",
       "      <td>401 - 500</td>\n",
       "      <td>401 - 500</td>\n",
       "    </tr>\n",
       "    <tr>\n",
       "      <th>1</th>\n",
       "      <td>2</td>\n",
       "      <td>15647311</td>\n",
       "      <td>Hill</td>\n",
       "      <td>608</td>\n",
       "      <td>Spain</td>\n",
       "      <td>Female</td>\n",
       "      <td>41</td>\n",
       "      <td>1</td>\n",
       "      <td>83807.86</td>\n",
       "      <td>1</td>\n",
       "      <td>Not Owned</td>\n",
       "      <td>Active</td>\n",
       "      <td>Not Churned</td>\n",
       "      <td>Complained</td>\n",
       "      <td>Neutral</td>\n",
       "      <td>DIAMOND</td>\n",
       "      <td>456</td>\n",
       "      <td>41 - 50</td>\n",
       "      <td>10K - 100K</td>\n",
       "      <td>401 - 500</td>\n",
       "      <td>401 - 500</td>\n",
       "    </tr>\n",
       "  </tbody>\n",
       "</table>\n",
       "</div>"
      ],
      "text/plain": [
       "   RowNumber  CustomerId   Surname  CreditScore Country  Gender  Age  Tenure  \\\n",
       "0          1    15634602  Hargrave          619  France  Female   42       2   \n",
       "1          2    15647311      Hill          608   Spain  Female   41       1   \n",
       "\n",
       "    Balance  NumOfProducts  HasCrCard Activity Status Churned Status  \\\n",
       "0      0.00              1      Owned          Active        Churned   \n",
       "1  83807.86              1  Not Owned          Active    Not Churned   \n",
       "\n",
       "     Complain Satisfaction Score Card Type  Point Earned Age Group  \\\n",
       "0  Complained        Unsatisfied   DIAMOND           464   41 - 50   \n",
       "1  Complained            Neutral   DIAMOND           456   41 - 50   \n",
       "\n",
       "  Acct Balance Point Earned Group Credit Score Group  \n",
       "0       <= 10K          401 - 500          401 - 500  \n",
       "1   10K - 100K          401 - 500          401 - 500  "
      ]
     },
     "execution_count": 93,
     "metadata": {},
     "output_type": "execute_result"
    }
   ],
   "source": [
    "df1.head(2)"
   ]
  },
  {
   "cell_type": "markdown",
   "id": "8ee69cc9",
   "metadata": {},
   "source": [
    "## Churn Rate by Satisfaction"
   ]
  },
  {
   "cell_type": "code",
   "execution_count": 97,
   "id": "165bd66b",
   "metadata": {},
   "outputs": [
    {
     "data": {
      "text/html": [
       "<div>\n",
       "<style scoped>\n",
       "    .dataframe tbody tr th:only-of-type {\n",
       "        vertical-align: middle;\n",
       "    }\n",
       "\n",
       "    .dataframe tbody tr th {\n",
       "        vertical-align: top;\n",
       "    }\n",
       "\n",
       "    .dataframe thead th {\n",
       "        text-align: right;\n",
       "    }\n",
       "</style>\n",
       "<table border=\"1\" class=\"dataframe\">\n",
       "  <thead>\n",
       "    <tr style=\"text-align: right;\">\n",
       "      <th>Churned Status</th>\n",
       "      <th>Churned</th>\n",
       "      <th>Not Churned</th>\n",
       "      <th>Total</th>\n",
       "    </tr>\n",
       "    <tr>\n",
       "      <th>Satisfaction Score</th>\n",
       "      <th></th>\n",
       "      <th></th>\n",
       "      <th></th>\n",
       "    </tr>\n",
       "  </thead>\n",
       "  <tbody>\n",
       "    <tr>\n",
       "      <th>Neutral</th>\n",
       "      <td>401</td>\n",
       "      <td>1641</td>\n",
       "      <td>2042</td>\n",
       "    </tr>\n",
       "    <tr>\n",
       "      <th>Satisfied</th>\n",
       "      <td>414</td>\n",
       "      <td>1594</td>\n",
       "      <td>2008</td>\n",
       "    </tr>\n",
       "    <tr>\n",
       "      <th>Unsatisfied</th>\n",
       "      <td>439</td>\n",
       "      <td>1575</td>\n",
       "      <td>2014</td>\n",
       "    </tr>\n",
       "    <tr>\n",
       "      <th>Very Satisfied</th>\n",
       "      <td>397</td>\n",
       "      <td>1607</td>\n",
       "      <td>2004</td>\n",
       "    </tr>\n",
       "    <tr>\n",
       "      <th>Very Unsatisfied</th>\n",
       "      <td>387</td>\n",
       "      <td>1545</td>\n",
       "      <td>1932</td>\n",
       "    </tr>\n",
       "    <tr>\n",
       "      <th>Total</th>\n",
       "      <td>2038</td>\n",
       "      <td>7962</td>\n",
       "      <td>10000</td>\n",
       "    </tr>\n",
       "  </tbody>\n",
       "</table>\n",
       "</div>"
      ],
      "text/plain": [
       "Churned Status      Churned  Not Churned  Total\n",
       "Satisfaction Score                             \n",
       "Neutral                 401         1641   2042\n",
       "Satisfied               414         1594   2008\n",
       "Unsatisfied             439         1575   2014\n",
       "Very Satisfied          397         1607   2004\n",
       "Very Unsatisfied        387         1545   1932\n",
       "Total                  2038         7962  10000"
      ]
     },
     "execution_count": 97,
     "metadata": {},
     "output_type": "execute_result"
    }
   ],
   "source": [
    "#summarize the data by satisfaction\n",
    "sat_churn = df1.pivot_table(index='Satisfaction Score', columns='Churned Status', values='CustomerId', aggfunc='count', margins=True, margins_name='Total')\n",
    "sat_churn"
   ]
  },
  {
   "cell_type": "code",
   "execution_count": 98,
   "id": "1cf86a19",
   "metadata": {},
   "outputs": [
    {
     "data": {
      "text/html": [
       "<div>\n",
       "<style scoped>\n",
       "    .dataframe tbody tr th:only-of-type {\n",
       "        vertical-align: middle;\n",
       "    }\n",
       "\n",
       "    .dataframe tbody tr th {\n",
       "        vertical-align: top;\n",
       "    }\n",
       "\n",
       "    .dataframe thead th {\n",
       "        text-align: right;\n",
       "    }\n",
       "</style>\n",
       "<table border=\"1\" class=\"dataframe\">\n",
       "  <thead>\n",
       "    <tr style=\"text-align: right;\">\n",
       "      <th>Churned Status</th>\n",
       "      <th>Churned</th>\n",
       "      <th>Not Churned</th>\n",
       "      <th>Total</th>\n",
       "      <th>Churn Rate</th>\n",
       "    </tr>\n",
       "    <tr>\n",
       "      <th>Satisfaction Score</th>\n",
       "      <th></th>\n",
       "      <th></th>\n",
       "      <th></th>\n",
       "      <th></th>\n",
       "    </tr>\n",
       "  </thead>\n",
       "  <tbody>\n",
       "    <tr>\n",
       "      <th>Neutral</th>\n",
       "      <td>401</td>\n",
       "      <td>1641</td>\n",
       "      <td>2042</td>\n",
       "      <td>19.6</td>\n",
       "    </tr>\n",
       "    <tr>\n",
       "      <th>Satisfied</th>\n",
       "      <td>414</td>\n",
       "      <td>1594</td>\n",
       "      <td>2008</td>\n",
       "      <td>20.6</td>\n",
       "    </tr>\n",
       "    <tr>\n",
       "      <th>Unsatisfied</th>\n",
       "      <td>439</td>\n",
       "      <td>1575</td>\n",
       "      <td>2014</td>\n",
       "      <td>21.8</td>\n",
       "    </tr>\n",
       "    <tr>\n",
       "      <th>Very Satisfied</th>\n",
       "      <td>397</td>\n",
       "      <td>1607</td>\n",
       "      <td>2004</td>\n",
       "      <td>19.8</td>\n",
       "    </tr>\n",
       "    <tr>\n",
       "      <th>Very Unsatisfied</th>\n",
       "      <td>387</td>\n",
       "      <td>1545</td>\n",
       "      <td>1932</td>\n",
       "      <td>20.0</td>\n",
       "    </tr>\n",
       "    <tr>\n",
       "      <th>Total</th>\n",
       "      <td>2038</td>\n",
       "      <td>7962</td>\n",
       "      <td>10000</td>\n",
       "      <td>20.4</td>\n",
       "    </tr>\n",
       "  </tbody>\n",
       "</table>\n",
       "</div>"
      ],
      "text/plain": [
       "Churned Status      Churned  Not Churned  Total  Churn Rate\n",
       "Satisfaction Score                                         \n",
       "Neutral                 401         1641   2042        19.6\n",
       "Satisfied               414         1594   2008        20.6\n",
       "Unsatisfied             439         1575   2014        21.8\n",
       "Very Satisfied          397         1607   2004        19.8\n",
       "Very Unsatisfied        387         1545   1932        20.0\n",
       "Total                  2038         7962  10000        20.4"
      ]
     },
     "execution_count": 98,
     "metadata": {},
     "output_type": "execute_result"
    }
   ],
   "source": [
    "#create a churn rate column\n",
    "sat_churn['Churn Rate'] = round((sat_churn['Churned']/sat_churn['Total'])*100, 1)\n",
    "sat_churn"
   ]
  },
  {
   "cell_type": "code",
   "execution_count": 99,
   "id": "5fa5739e",
   "metadata": {},
   "outputs": [],
   "source": [
    "#drop unnecessary rows\n",
    "sat_churn.drop('Total', axis=0, inplace=True)"
   ]
  },
  {
   "cell_type": "code",
   "execution_count": 100,
   "id": "97fe7049",
   "metadata": {},
   "outputs": [
    {
     "data": {
      "text/plain": [
       "Index(['Neutral', 'Satisfied', 'Unsatisfied', 'Very Satisfied',\n",
       "       'Very Unsatisfied'],\n",
       "      dtype='object', name='Satisfaction Score')"
      ]
     },
     "execution_count": 100,
     "metadata": {},
     "output_type": "execute_result"
    }
   ],
   "source": [
    "sat_churn.index"
   ]
  },
  {
   "cell_type": "code",
   "execution_count": 101,
   "id": "25197094",
   "metadata": {},
   "outputs": [
    {
     "data": {
      "text/html": [
       "<div>\n",
       "<style scoped>\n",
       "    .dataframe tbody tr th:only-of-type {\n",
       "        vertical-align: middle;\n",
       "    }\n",
       "\n",
       "    .dataframe tbody tr th {\n",
       "        vertical-align: top;\n",
       "    }\n",
       "\n",
       "    .dataframe thead th {\n",
       "        text-align: right;\n",
       "    }\n",
       "</style>\n",
       "<table border=\"1\" class=\"dataframe\">\n",
       "  <thead>\n",
       "    <tr style=\"text-align: right;\">\n",
       "      <th>Churned Status</th>\n",
       "      <th>Churned</th>\n",
       "      <th>Not Churned</th>\n",
       "      <th>Total</th>\n",
       "      <th>Churn Rate</th>\n",
       "    </tr>\n",
       "    <tr>\n",
       "      <th>Satisfaction Score</th>\n",
       "      <th></th>\n",
       "      <th></th>\n",
       "      <th></th>\n",
       "      <th></th>\n",
       "    </tr>\n",
       "  </thead>\n",
       "  <tbody>\n",
       "    <tr>\n",
       "      <th>Very Unsatisfied</th>\n",
       "      <td>387</td>\n",
       "      <td>1545</td>\n",
       "      <td>1932</td>\n",
       "      <td>20.0</td>\n",
       "    </tr>\n",
       "    <tr>\n",
       "      <th>Unsatisfied</th>\n",
       "      <td>439</td>\n",
       "      <td>1575</td>\n",
       "      <td>2014</td>\n",
       "      <td>21.8</td>\n",
       "    </tr>\n",
       "    <tr>\n",
       "      <th>Neutral</th>\n",
       "      <td>401</td>\n",
       "      <td>1641</td>\n",
       "      <td>2042</td>\n",
       "      <td>19.6</td>\n",
       "    </tr>\n",
       "    <tr>\n",
       "      <th>Satisfied</th>\n",
       "      <td>414</td>\n",
       "      <td>1594</td>\n",
       "      <td>2008</td>\n",
       "      <td>20.6</td>\n",
       "    </tr>\n",
       "    <tr>\n",
       "      <th>Very Satisfied</th>\n",
       "      <td>397</td>\n",
       "      <td>1607</td>\n",
       "      <td>2004</td>\n",
       "      <td>19.8</td>\n",
       "    </tr>\n",
       "  </tbody>\n",
       "</table>\n",
       "</div>"
      ],
      "text/plain": [
       "Churned Status      Churned  Not Churned  Total  Churn Rate\n",
       "Satisfaction Score                                         \n",
       "Very Unsatisfied        387         1545   1932        20.0\n",
       "Unsatisfied             439         1575   2014        21.8\n",
       "Neutral                 401         1641   2042        19.6\n",
       "Satisfied               414         1594   2008        20.6\n",
       "Very Satisfied          397         1607   2004        19.8"
      ]
     },
     "execution_count": 101,
     "metadata": {},
     "output_type": "execute_result"
    }
   ],
   "source": [
    "#sort the dataframe by index\n",
    "sat_churn = sat_churn.reindex(labels=['Very Unsatisfied', 'Unsatisfied', 'Neutral', 'Satisfied', 'Very Satisfied'], axis=0)\n",
    "sat_churn"
   ]
  },
  {
   "cell_type": "code",
   "execution_count": 121,
   "id": "5004fff4",
   "metadata": {},
   "outputs": [
    {
     "data": {
      "image/png": "[encoded data removed]",
      "text/plain": [
       "<Figure size 700x500 with 2 Axes>"
      ]
     },
     "metadata": {},
     "output_type": "display_data"
    }
   ],
   "source": [
    "#plotting total customer and churn rate by Satisfaction\n",
    "fig, ax = plt.subplots(figsize=[7, 5])\n",
    "\n",
    "ax.bar(sat_churn.index, sat_churn['Total'], alpha=0.6, label='Total Customers')\n",
    "\n",
    "ax1 = ax.twinx()\n",
    "\n",
    "color2 = 'crimson'\n",
    "ax1.plot(sat_churn.index, sat_churn['Churn Rate'], color = color2, alpha=0.6, label='Churn Rate')\n",
    "\n",
    "#add title, label and legend\n",
    "ax.set_title('Total Customers and Churn Rate by Satisfaction', size=10)\n",
    "ax.set_xlabel('Satisfaction Score')\n",
    "ax.set_ylabel('Total Customers')\n",
    "ax1.set_ylabel('Churn Rate (%)')\n",
    "fig.legend()\n",
    "\n",
    "#add annotation to the line chart\n",
    "for index, values in enumerate(sat_churn['Churn Rate']):\n",
    "    ax1.text(index, values, str(values)+'%')\n",
    "\n",
    "  \n",
    "plt.show()"
   ]
  },
  {
   "cell_type": "code",
   "execution_count": null,
   "id": "1ed357e7",
   "metadata": {},
   "outputs": [],
   "source": []
  }
 ],
 "metadata": {
  "kernelspec": {
   "display_name": "Python 3 (ipykernel)",
   "language": "python",
   "name": "python3"
  },
  "language_info": {
   "codemirror_mode": {
    "name": "ipython",
    "version": 3
   },
   "file_extension": ".py",
   "mimetype": "text/x-python",
   "name": "python",
   "nbconvert_exporter": "python",
   "pygments_lexer": "ipython3",
   "version": "3.10.9"
  },
  "varInspector": {
   "cols": {
    "lenName": 16,
    "lenType": 16,
    "lenVar": 40
   },
   "kernels_config": {
    "python": {
     "delete_cmd_postfix": "",
     "delete_cmd_prefix": "del ",
     "library": "var_list.py",
     "varRefreshCmd": "print(var_dic_list())"
    },
    "r": {
     "delete_cmd_postfix": ") ",
     "delete_cmd_prefix": "rm(",
     "library": "var_list.r",
     "varRefreshCmd": "cat(var_dic_list()) "
    }
   },
   "types_to_exclude": [
    "module",
    "function",
    "builtin_function_or_method",
    "instance",
    "_Feature"
   ],
   "window_display": false
  }
 },
 "nbformat": 4,
 "nbformat_minor": 5
}
